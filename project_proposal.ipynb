{
 "cells": [
  {
   "cell_type": "markdown",
   "metadata": {},
   "source": [
    "# Williams vs ATP Top 500\n",
    "Group 18 Project Proposal by: Sandra Radic, Charlie Sushams, Clare Vu, & Alex Grinius"
   ]
  },
  {
   "cell_type": "markdown",
   "metadata": {},
   "source": [
    "## Introduction\n",
    "\n",
    "The world has already come to know and love sports based on competition fairly divided between males and females. However, not many people understand that not all sports are executed well with physicality but rather, the mentality and skills of an individual. Take tennis for example: Players who are stronger and more physically adept hold an advantage in some areas of the game, but players who are more talented skill-wise are better overall. While men and women may differ in physicality, they tend to be similar in skill capacity. Pledgesports names great examples from history of women competing against men. A prime example relevant to the background of our analysis would be from the 1970s, where Billy Jean King, the women’s champion at the time, faced off Bobby Riggs in a tennis match resulting in King winning all three sets. This match is evidence that women are capable of competing against men and that biological physical strength does not account for everything. Therefore, many outstanding female players could be serious competition to the male-dominated sport. This includes the 23-time Grand Slam champion, Serena Williams as she poses a serious threat with her sheer skill. **Using female tennis champion Serena Willliams’ statistics, specifically her height, age turned pro, best career rank to date, and number of seasons played, how would she rank when put up against the ATP top 500 male tennis players?”** Our group intends to analyze the factors that separate men's and women's sports, and use them in a classification model to predict which category (ranks from 1 - 501 players) Williams would fall under if she were to partake in a male-only tournament. \n",
    "\n",
    "In the world of sports, events are often separated into male and female events. Therefore, female and male statistics are not usually compared in one group. However, is this necessary for all sports? In this report, we aim to analyze this question through the lens of Tennis. For example, there are many outstanding female players on the professional tennis circuit. Serena Williams, notably, is one of the most decorated female tennis players of all time, with 23 Grand Slam singles titles (citation). This leads to our question: How would Serena Williams rank amongst the top 500 male players? More specifically, can we predict how Serena Williams would rank amongst top male players using the metrics of height and number of seasons played as predictors? To answer this question, we will be using the dataset collected from https://www.ultimatetennisstatistics.com/, which contains various data on the top 500 professional male tennis players. Using this data, we will categorize players into different classes, based on their best career rank achieved. Those who have ranked in the top ten will be assigned the label \"top\". Those who have ranked between 11 and 40 will be assigned the label \"great\". All other players will be assigned the label \"good\". The end result of our analysis, therefore, will be to predict which class Serena Williams would fall into, based upon her height and number of seasons played as a professional. \n",
    "\n",
    "\n",
    "\n"
   ]
  },
  {
   "cell_type": "markdown",
   "metadata": {},
   "source": [
    "## Methods and Results"
   ]
  },
  {
   "cell_type": "markdown",
   "metadata": {},
   "source": [
    "### 1. Preliminary exploratory data analysis (reading the data)"
   ]
  },
  {
   "cell_type": "code",
   "execution_count": 32,
   "metadata": {},
   "outputs": [],
   "source": [
    "library(tidyverse)\n",
    "library(tidymodels)\n",
    "library(repr)\n",
    "library(cowplot)\n",
    "library(scales)\n",
    "library(stringr)\n",
    "library(GGally)"
   ]
  },
  {
   "cell_type": "code",
   "execution_count": 33,
   "metadata": {},
   "outputs": [
    {
     "name": "stderr",
     "output_type": "stream",
     "text": [
      "Warning message:\n",
      "\"Missing column names filled in: 'X1' [1]\"\n",
      "\n",
      "\u001b[36m--\u001b[39m \u001b[1m\u001b[1mColumn specification\u001b[1m\u001b[22m \u001b[36m------------------------------------------------------------------------------------------------\u001b[39m\n",
      "cols(\n",
      "  .default = col_character(),\n",
      "  X1 = \u001b[32mcol_double()\u001b[39m,\n",
      "  `Turned Pro` = \u001b[32mcol_double()\u001b[39m,\n",
      "  Seasons = \u001b[32mcol_double()\u001b[39m,\n",
      "  Titles = \u001b[32mcol_double()\u001b[39m,\n",
      "  `Best Season` = \u001b[32mcol_double()\u001b[39m,\n",
      "  Retired = \u001b[32mcol_double()\u001b[39m,\n",
      "  Masters = \u001b[32mcol_double()\u001b[39m,\n",
      "  `Grand Slams` = \u001b[32mcol_double()\u001b[39m,\n",
      "  `Davis Cups` = \u001b[32mcol_double()\u001b[39m,\n",
      "  `Team Cups` = \u001b[32mcol_double()\u001b[39m,\n",
      "  Olympics = \u001b[32mcol_double()\u001b[39m,\n",
      "  `Weeks at No. 1` = \u001b[32mcol_double()\u001b[39m,\n",
      "  `Tour Finals` = \u001b[32mcol_double()\u001b[39m\n",
      ")\n",
      "\u001b[36mi\u001b[39m Use \u001b[30m\u001b[47m\u001b[30m\u001b[47m`spec()`\u001b[47m\u001b[30m\u001b[49m\u001b[39m for the full column specifications.\n",
      "\n",
      "\n"
     ]
    },
    {
     "data": {
      "text/html": [
       "<table class=\"dataframe\">\n",
       "<caption>A tibble: 6 × 38</caption>\n",
       "<thead>\n",
       "\t<tr><th scope=col>X1</th><th scope=col>Age</th><th scope=col>Country</th><th scope=col>Plays</th><th scope=col>Wikipedia</th><th scope=col>Current Rank</th><th scope=col>Best Rank</th><th scope=col>Name</th><th scope=col>Backhand</th><th scope=col>Prize Money</th><th scope=col>...</th><th scope=col>Facebook</th><th scope=col>Twitter</th><th scope=col>Nicknames</th><th scope=col>Grand Slams</th><th scope=col>Davis Cups</th><th scope=col>Web Site</th><th scope=col>Team Cups</th><th scope=col>Olympics</th><th scope=col>Weeks at No. 1</th><th scope=col>Tour Finals</th></tr>\n",
       "\t<tr><th scope=col>&lt;dbl&gt;</th><th scope=col>&lt;chr&gt;</th><th scope=col>&lt;chr&gt;</th><th scope=col>&lt;chr&gt;</th><th scope=col>&lt;chr&gt;</th><th scope=col>&lt;chr&gt;</th><th scope=col>&lt;chr&gt;</th><th scope=col>&lt;chr&gt;</th><th scope=col>&lt;chr&gt;</th><th scope=col>&lt;chr&gt;</th><th scope=col>...</th><th scope=col>&lt;chr&gt;</th><th scope=col>&lt;chr&gt;</th><th scope=col>&lt;chr&gt;</th><th scope=col>&lt;dbl&gt;</th><th scope=col>&lt;dbl&gt;</th><th scope=col>&lt;chr&gt;</th><th scope=col>&lt;dbl&gt;</th><th scope=col>&lt;dbl&gt;</th><th scope=col>&lt;dbl&gt;</th><th scope=col>&lt;dbl&gt;</th></tr>\n",
       "</thead>\n",
       "<tbody>\n",
       "\t<tr><td>0</td><td>26 (25-04-1993)</td><td>Brazil            </td><td>Right-handed</td><td>Wikipedia</td><td>378 (97) </td><td>363 (04-11-2019)</td><td>Oscar Jose Gutierrez</td><td>NA        </td><td>NA          </td><td>...</td><td>NA</td><td>NA</td><td>NA</td><td>NA</td><td>NA</td><td>NA</td><td>NA</td><td>NA</td><td>NA</td><td>NA</td></tr>\n",
       "\t<tr><td>1</td><td>18 (22-12-2001)</td><td>United Kingdom    </td><td>Left-handed </td><td>Wikipedia</td><td>326 (119)</td><td>316 (14-10-2019)</td><td>Jack Draper         </td><td>Two-handed</td><td>$59,040     </td><td>...</td><td>NA</td><td>NA</td><td>NA</td><td>NA</td><td>NA</td><td>NA</td><td>NA</td><td>NA</td><td>NA</td><td>NA</td></tr>\n",
       "\t<tr><td>2</td><td>32 (03-11-1987)</td><td>Slovakia          </td><td>Right-handed</td><td>Wikipedia</td><td>178 (280)</td><td>44 (14-01-2013) </td><td>Lukas Lacko         </td><td>Two-handed</td><td>US$3,261,567</td><td>...</td><td>NA</td><td>NA</td><td>NA</td><td>NA</td><td>NA</td><td>NA</td><td>NA</td><td>NA</td><td>NA</td><td>NA</td></tr>\n",
       "\t<tr><td>3</td><td>21 (29-05-1998)</td><td>Korea, Republic of</td><td>Right-handed</td><td>Wikipedia</td><td>236 (199)</td><td>130 (10-04-2017)</td><td>Duck Hee Lee        </td><td>Two-handed</td><td>$374,093    </td><td>...</td><td>NA</td><td>NA</td><td>NA</td><td>NA</td><td>NA</td><td>NA</td><td>NA</td><td>NA</td><td>NA</td><td>NA</td></tr>\n",
       "\t<tr><td>4</td><td>27 (21-10-1992)</td><td>Australia         </td><td>Right-handed</td><td>Wikipedia</td><td>183 (273)</td><td>17 (11-01-2016) </td><td>Bernard Tomic       </td><td>Two-handed</td><td>US$6,091,971</td><td>...</td><td>NA</td><td>NA</td><td>NA</td><td>NA</td><td>NA</td><td>NA</td><td>NA</td><td>NA</td><td>NA</td><td>NA</td></tr>\n",
       "\t<tr><td>5</td><td>22 (11-02-1997)</td><td>Poland            </td><td>Right-handed</td><td>Wikipedia</td><td>31 (1398)</td><td>31 (20-01-2020) </td><td>Hubert Hurkacz      </td><td>Two-handed</td><td>$1,517,157  </td><td>...</td><td>NA</td><td>NA</td><td>NA</td><td>NA</td><td>NA</td><td>NA</td><td>NA</td><td>NA</td><td>NA</td><td>NA</td></tr>\n",
       "</tbody>\n",
       "</table>\n"
      ],
      "text/latex": [
       "A tibble: 6 × 38\n",
       "\\begin{tabular}{lllllllllllllllllllll}\n",
       " X1 & Age & Country & Plays & Wikipedia & Current Rank & Best Rank & Name & Backhand & Prize Money & ... & Facebook & Twitter & Nicknames & Grand Slams & Davis Cups & Web Site & Team Cups & Olympics & Weeks at No. 1 & Tour Finals\\\\\n",
       " <dbl> & <chr> & <chr> & <chr> & <chr> & <chr> & <chr> & <chr> & <chr> & <chr> & ... & <chr> & <chr> & <chr> & <dbl> & <dbl> & <chr> & <dbl> & <dbl> & <dbl> & <dbl>\\\\\n",
       "\\hline\n",
       "\t 0 & 26 (25-04-1993) & Brazil             & Right-handed & Wikipedia & 378 (97)  & 363 (04-11-2019) & Oscar Jose Gutierrez & NA         & NA           & ... & NA & NA & NA & NA & NA & NA & NA & NA & NA & NA\\\\\n",
       "\t 1 & 18 (22-12-2001) & United Kingdom     & Left-handed  & Wikipedia & 326 (119) & 316 (14-10-2019) & Jack Draper          & Two-handed & \\$59,040      & ... & NA & NA & NA & NA & NA & NA & NA & NA & NA & NA\\\\\n",
       "\t 2 & 32 (03-11-1987) & Slovakia           & Right-handed & Wikipedia & 178 (280) & 44 (14-01-2013)  & Lukas Lacko          & Two-handed & US\\$3,261,567 & ... & NA & NA & NA & NA & NA & NA & NA & NA & NA & NA\\\\\n",
       "\t 3 & 21 (29-05-1998) & Korea, Republic of & Right-handed & Wikipedia & 236 (199) & 130 (10-04-2017) & Duck Hee Lee         & Two-handed & \\$374,093     & ... & NA & NA & NA & NA & NA & NA & NA & NA & NA & NA\\\\\n",
       "\t 4 & 27 (21-10-1992) & Australia          & Right-handed & Wikipedia & 183 (273) & 17 (11-01-2016)  & Bernard Tomic        & Two-handed & US\\$6,091,971 & ... & NA & NA & NA & NA & NA & NA & NA & NA & NA & NA\\\\\n",
       "\t 5 & 22 (11-02-1997) & Poland             & Right-handed & Wikipedia & 31 (1398) & 31 (20-01-2020)  & Hubert Hurkacz       & Two-handed & \\$1,517,157   & ... & NA & NA & NA & NA & NA & NA & NA & NA & NA & NA\\\\\n",
       "\\end{tabular}\n"
      ],
      "text/markdown": [
       "\n",
       "A tibble: 6 × 38\n",
       "\n",
       "| X1 &lt;dbl&gt; | Age &lt;chr&gt; | Country &lt;chr&gt; | Plays &lt;chr&gt; | Wikipedia &lt;chr&gt; | Current Rank &lt;chr&gt; | Best Rank &lt;chr&gt; | Name &lt;chr&gt; | Backhand &lt;chr&gt; | Prize Money &lt;chr&gt; | ... ... | Facebook &lt;chr&gt; | Twitter &lt;chr&gt; | Nicknames &lt;chr&gt; | Grand Slams &lt;dbl&gt; | Davis Cups &lt;dbl&gt; | Web Site &lt;chr&gt; | Team Cups &lt;dbl&gt; | Olympics &lt;dbl&gt; | Weeks at No. 1 &lt;dbl&gt; | Tour Finals &lt;dbl&gt; |\n",
       "|---|---|---|---|---|---|---|---|---|---|---|---|---|---|---|---|---|---|---|---|---|\n",
       "| 0 | 26 (25-04-1993) | Brazil             | Right-handed | Wikipedia | 378 (97)  | 363 (04-11-2019) | Oscar Jose Gutierrez | NA         | NA           | ... | NA | NA | NA | NA | NA | NA | NA | NA | NA | NA |\n",
       "| 1 | 18 (22-12-2001) | United Kingdom     | Left-handed  | Wikipedia | 326 (119) | 316 (14-10-2019) | Jack Draper          | Two-handed | $59,040      | ... | NA | NA | NA | NA | NA | NA | NA | NA | NA | NA |\n",
       "| 2 | 32 (03-11-1987) | Slovakia           | Right-handed | Wikipedia | 178 (280) | 44 (14-01-2013)  | Lukas Lacko          | Two-handed | US$3,261,567 | ... | NA | NA | NA | NA | NA | NA | NA | NA | NA | NA |\n",
       "| 3 | 21 (29-05-1998) | Korea, Republic of | Right-handed | Wikipedia | 236 (199) | 130 (10-04-2017) | Duck Hee Lee         | Two-handed | $374,093     | ... | NA | NA | NA | NA | NA | NA | NA | NA | NA | NA |\n",
       "| 4 | 27 (21-10-1992) | Australia          | Right-handed | Wikipedia | 183 (273) | 17 (11-01-2016)  | Bernard Tomic        | Two-handed | US$6,091,971 | ... | NA | NA | NA | NA | NA | NA | NA | NA | NA | NA |\n",
       "| 5 | 22 (11-02-1997) | Poland             | Right-handed | Wikipedia | 31 (1398) | 31 (20-01-2020)  | Hubert Hurkacz       | Two-handed | $1,517,157   | ... | NA | NA | NA | NA | NA | NA | NA | NA | NA | NA |\n",
       "\n"
      ],
      "text/plain": [
       "  X1 Age             Country            Plays        Wikipedia Current Rank\n",
       "1 0  26 (25-04-1993) Brazil             Right-handed Wikipedia 378 (97)    \n",
       "2 1  18 (22-12-2001) United Kingdom     Left-handed  Wikipedia 326 (119)   \n",
       "3 2  32 (03-11-1987) Slovakia           Right-handed Wikipedia 178 (280)   \n",
       "4 3  21 (29-05-1998) Korea, Republic of Right-handed Wikipedia 236 (199)   \n",
       "5 4  27 (21-10-1992) Australia          Right-handed Wikipedia 183 (273)   \n",
       "6 5  22 (11-02-1997) Poland             Right-handed Wikipedia 31 (1398)   \n",
       "  Best Rank        Name                 Backhand   Prize Money  ... Facebook\n",
       "1 363 (04-11-2019) Oscar Jose Gutierrez NA         NA           ... NA      \n",
       "2 316 (14-10-2019) Jack Draper          Two-handed $59,040      ... NA      \n",
       "3 44 (14-01-2013)  Lukas Lacko          Two-handed US$3,261,567 ... NA      \n",
       "4 130 (10-04-2017) Duck Hee Lee         Two-handed $374,093     ... NA      \n",
       "5 17 (11-01-2016)  Bernard Tomic        Two-handed US$6,091,971 ... NA      \n",
       "6 31 (20-01-2020)  Hubert Hurkacz       Two-handed $1,517,157   ... NA      \n",
       "  Twitter Nicknames Grand Slams Davis Cups Web Site Team Cups Olympics\n",
       "1 NA      NA        NA          NA         NA       NA        NA      \n",
       "2 NA      NA        NA          NA         NA       NA        NA      \n",
       "3 NA      NA        NA          NA         NA       NA        NA      \n",
       "4 NA      NA        NA          NA         NA       NA        NA      \n",
       "5 NA      NA        NA          NA         NA       NA        NA      \n",
       "6 NA      NA        NA          NA         NA       NA        NA      \n",
       "  Weeks at No. 1 Tour Finals\n",
       "1 NA             NA         \n",
       "2 NA             NA         \n",
       "3 NA             NA         \n",
       "4 NA             NA         \n",
       "5 NA             NA         \n",
       "6 NA             NA         "
      ]
     },
     "metadata": {},
     "output_type": "display_data"
    }
   ],
   "source": [
    "#read in data\n",
    "player_stats_link <- \"https://drive.google.com/uc?export=download&id=1_MECmUXZuuILYeEOfonSGqodW6qVdhsS\"\n",
    "player_stats <- read_csv(player_stats_link)\n",
    "\n",
    "head(player_stats)"
   ]
  },
  {
   "cell_type": "markdown",
   "metadata": {},
   "source": [
    "### 2. Data Wrangling\n",
    "\n",
    "There are a couple of steps involved in wrangling and tidying our data. As briefly mentioned in our introduction, we decided to analyze the the player's **age turned pro, height, number of seasons played, and best career rank to date** as we felt these quantitative variables would make the most impact when comparing skill levels between players. Other information in the dataset (such as the country the player is from, or whether they played with their right or left hand) was not as relevant to our question.\n",
    "\n",
    "\n",
    "- Firstly, to get the age the players turned pro, we needed to subtract the year the player was born in from the year the player turned pro. In order to access the year the player was born it, we had to separate the year from the date format using R commands `as.Date` and `format`. By doing this, we successfully achieved how old the player was when they turned pro. We deemed this as an important predictor because the younger a player turned pro, the better they would generally rank as they had more experience playing in a professional league.\n",
    "\n",
    "- We decided to use the height of the players as another predictor because male athletes tend to be taller than female athletes. In tennis, height may also serve to be an advantage because it contributes to longer wingspans, larger strides across the court, and overall more movement in a shorter amount of time.\n",
    "\n",
    "- The number of seasons played was chosen as a predictor similarly to the reason age turned pro was. We felt that players who have played longer in the professional setting are ranked higher, so this correlation will help determine the skill level association between players and their rank. \n",
    "\n",
    "- Finally, we chose Best Career Rank to Date as a predictor because we felt it was more representative of a players best capability regardless of their age. The issue with comparing Billy to Bobby was their age difference at the time - Bobby was a lot older than Billy, and we want to compare our modern players at their optimum ability."
   ]
  },
  {
   "cell_type": "code",
   "execution_count": 34,
   "metadata": {},
   "outputs": [
    {
     "data": {
      "text/html": [
       "<table class=\"dataframe\">\n",
       "<caption>A tibble: 15 × 9</caption>\n",
       "<thead>\n",
       "\t<tr><th scope=col>Best_career_rank_to_date</th><th scope=col>Height_cm</th><th scope=col>Seasons</th><th scope=col>Name</th><th scope=col>Year_turned_pro</th><th scope=col>Age</th><th scope=col>Birthdate</th><th scope=col>Age_turned_pro</th><th scope=col>player_level</th></tr>\n",
       "\t<tr><th scope=col>&lt;int&gt;</th><th scope=col>&lt;dbl&gt;</th><th scope=col>&lt;dbl&gt;</th><th scope=col>&lt;chr&gt;</th><th scope=col>&lt;dbl&gt;</th><th scope=col>&lt;dbl&gt;</th><th scope=col>&lt;dbl&gt;</th><th scope=col>&lt;dbl&gt;</th><th scope=col>&lt;chr&gt;</th></tr>\n",
       "</thead>\n",
       "<tbody>\n",
       "\t<tr><td>183</td><td>183</td><td> 8</td><td>Laurynas Grigelis   </td><td>2008</td><td>28</td><td>1991</td><td>17</td><td>NA</td></tr>\n",
       "\t<tr><td>169</td><td>183</td><td> 5</td><td>Brydan Klein        </td><td>2005</td><td>30</td><td>1989</td><td>16</td><td>NA</td></tr>\n",
       "\t<tr><td>110</td><td>180</td><td>13</td><td>Peter Polansky      </td><td>2007</td><td>31</td><td>1988</td><td>19</td><td>NA</td></tr>\n",
       "\t<tr><td> 99</td><td>180</td><td>10</td><td>Pedro Sousa         </td><td>2007</td><td>31</td><td>1988</td><td>19</td><td>NA</td></tr>\n",
       "\t<tr><td> 98</td><td>180</td><td> 7</td><td>Andrej Martin       </td><td>2005</td><td>30</td><td>1989</td><td>16</td><td>NA</td></tr>\n",
       "\t<tr><td> 89</td><td>190</td><td>12</td><td>James Ward          </td><td>2006</td><td>32</td><td>1987</td><td>19</td><td>NA</td></tr>\n",
       "\t<tr><td> 85</td><td>188</td><td>11</td><td>Matthias Bachinger  </td><td>2005</td><td>32</td><td>1987</td><td>18</td><td>NA</td></tr>\n",
       "\t<tr><td> 84</td><td>183</td><td> 7</td><td>Alessandro Giannessi</td><td>2008</td><td>29</td><td>1990</td><td>18</td><td>NA</td></tr>\n",
       "\t<tr><td> 82</td><td>183</td><td> 9</td><td>James Duckworth     </td><td>2010</td><td>28</td><td>1992</td><td>18</td><td>NA</td></tr>\n",
       "\t<tr><td> 80</td><td>183</td><td> 5</td><td>Gregoire Barrere    </td><td>2012</td><td>25</td><td>1994</td><td>18</td><td>NA</td></tr>\n",
       "\t<tr><td> 78</td><td>190</td><td> 9</td><td>Konstantin Kravchuk </td><td>2004</td><td>34</td><td>1985</td><td>19</td><td>NA</td></tr>\n",
       "\t<tr><td> 71</td><td>183</td><td> 7</td><td>Cedrik Marcel Stebe </td><td>2010</td><td>29</td><td>1990</td><td>20</td><td>NA</td></tr>\n",
       "\t<tr><td> 68</td><td>188</td><td>11</td><td>Blaz Kavcic         </td><td>2005</td><td>32</td><td>1987</td><td>18</td><td>NA</td></tr>\n",
       "\t<tr><td> 68</td><td>175</td><td>11</td><td>Tim Smyczek         </td><td>2006</td><td>32</td><td>1987</td><td>19</td><td>NA</td></tr>\n",
       "\t<tr><td> 65</td><td>185</td><td>12</td><td>Evgeny Donskoy      </td><td>2007</td><td>29</td><td>1990</td><td>17</td><td>NA</td></tr>\n",
       "</tbody>\n",
       "</table>\n"
      ],
      "text/latex": [
       "A tibble: 15 × 9\n",
       "\\begin{tabular}{lllllllll}\n",
       " Best\\_career\\_rank\\_to\\_date & Height\\_cm & Seasons & Name & Year\\_turned\\_pro & Age & Birthdate & Age\\_turned\\_pro & player\\_level\\\\\n",
       " <int> & <dbl> & <dbl> & <chr> & <dbl> & <dbl> & <dbl> & <dbl> & <chr>\\\\\n",
       "\\hline\n",
       "\t 183 & 183 &  8 & Laurynas Grigelis    & 2008 & 28 & 1991 & 17 & NA\\\\\n",
       "\t 169 & 183 &  5 & Brydan Klein         & 2005 & 30 & 1989 & 16 & NA\\\\\n",
       "\t 110 & 180 & 13 & Peter Polansky       & 2007 & 31 & 1988 & 19 & NA\\\\\n",
       "\t  99 & 180 & 10 & Pedro Sousa          & 2007 & 31 & 1988 & 19 & NA\\\\\n",
       "\t  98 & 180 &  7 & Andrej Martin        & 2005 & 30 & 1989 & 16 & NA\\\\\n",
       "\t  89 & 190 & 12 & James Ward           & 2006 & 32 & 1987 & 19 & NA\\\\\n",
       "\t  85 & 188 & 11 & Matthias Bachinger   & 2005 & 32 & 1987 & 18 & NA\\\\\n",
       "\t  84 & 183 &  7 & Alessandro Giannessi & 2008 & 29 & 1990 & 18 & NA\\\\\n",
       "\t  82 & 183 &  9 & James Duckworth      & 2010 & 28 & 1992 & 18 & NA\\\\\n",
       "\t  80 & 183 &  5 & Gregoire Barrere     & 2012 & 25 & 1994 & 18 & NA\\\\\n",
       "\t  78 & 190 &  9 & Konstantin Kravchuk  & 2004 & 34 & 1985 & 19 & NA\\\\\n",
       "\t  71 & 183 &  7 & Cedrik Marcel Stebe  & 2010 & 29 & 1990 & 20 & NA\\\\\n",
       "\t  68 & 188 & 11 & Blaz Kavcic          & 2005 & 32 & 1987 & 18 & NA\\\\\n",
       "\t  68 & 175 & 11 & Tim Smyczek          & 2006 & 32 & 1987 & 19 & NA\\\\\n",
       "\t  65 & 185 & 12 & Evgeny Donskoy       & 2007 & 29 & 1990 & 17 & NA\\\\\n",
       "\\end{tabular}\n"
      ],
      "text/markdown": [
       "\n",
       "A tibble: 15 × 9\n",
       "\n",
       "| Best_career_rank_to_date &lt;int&gt; | Height_cm &lt;dbl&gt; | Seasons &lt;dbl&gt; | Name &lt;chr&gt; | Year_turned_pro &lt;dbl&gt; | Age &lt;dbl&gt; | Birthdate &lt;dbl&gt; | Age_turned_pro &lt;dbl&gt; | player_level &lt;chr&gt; |\n",
       "|---|---|---|---|---|---|---|---|---|\n",
       "| 183 | 183 |  8 | Laurynas Grigelis    | 2008 | 28 | 1991 | 17 | NA |\n",
       "| 169 | 183 |  5 | Brydan Klein         | 2005 | 30 | 1989 | 16 | NA |\n",
       "| 110 | 180 | 13 | Peter Polansky       | 2007 | 31 | 1988 | 19 | NA |\n",
       "|  99 | 180 | 10 | Pedro Sousa          | 2007 | 31 | 1988 | 19 | NA |\n",
       "|  98 | 180 |  7 | Andrej Martin        | 2005 | 30 | 1989 | 16 | NA |\n",
       "|  89 | 190 | 12 | James Ward           | 2006 | 32 | 1987 | 19 | NA |\n",
       "|  85 | 188 | 11 | Matthias Bachinger   | 2005 | 32 | 1987 | 18 | NA |\n",
       "|  84 | 183 |  7 | Alessandro Giannessi | 2008 | 29 | 1990 | 18 | NA |\n",
       "|  82 | 183 |  9 | James Duckworth      | 2010 | 28 | 1992 | 18 | NA |\n",
       "|  80 | 183 |  5 | Gregoire Barrere     | 2012 | 25 | 1994 | 18 | NA |\n",
       "|  78 | 190 |  9 | Konstantin Kravchuk  | 2004 | 34 | 1985 | 19 | NA |\n",
       "|  71 | 183 |  7 | Cedrik Marcel Stebe  | 2010 | 29 | 1990 | 20 | NA |\n",
       "|  68 | 188 | 11 | Blaz Kavcic          | 2005 | 32 | 1987 | 18 | NA |\n",
       "|  68 | 175 | 11 | Tim Smyczek          | 2006 | 32 | 1987 | 19 | NA |\n",
       "|  65 | 185 | 12 | Evgeny Donskoy       | 2007 | 29 | 1990 | 17 | NA |\n",
       "\n"
      ],
      "text/plain": [
       "   Best_career_rank_to_date Height_cm Seasons Name                \n",
       "1  183                      183        8      Laurynas Grigelis   \n",
       "2  169                      183        5      Brydan Klein        \n",
       "3  110                      180       13      Peter Polansky      \n",
       "4   99                      180       10      Pedro Sousa         \n",
       "5   98                      180        7      Andrej Martin       \n",
       "6   89                      190       12      James Ward          \n",
       "7   85                      188       11      Matthias Bachinger  \n",
       "8   84                      183        7      Alessandro Giannessi\n",
       "9   82                      183        9      James Duckworth     \n",
       "10  80                      183        5      Gregoire Barrere    \n",
       "11  78                      190        9      Konstantin Kravchuk \n",
       "12  71                      183        7      Cedrik Marcel Stebe \n",
       "13  68                      188       11      Blaz Kavcic         \n",
       "14  68                      175       11      Tim Smyczek         \n",
       "15  65                      185       12      Evgeny Donskoy      \n",
       "   Year_turned_pro Age Birthdate Age_turned_pro player_level\n",
       "1  2008            28  1991      17             NA          \n",
       "2  2005            30  1989      16             NA          \n",
       "3  2007            31  1988      19             NA          \n",
       "4  2007            31  1988      19             NA          \n",
       "5  2005            30  1989      16             NA          \n",
       "6  2006            32  1987      19             NA          \n",
       "7  2005            32  1987      18             NA          \n",
       "8  2008            29  1990      18             NA          \n",
       "9  2010            28  1992      18             NA          \n",
       "10 2012            25  1994      18             NA          \n",
       "11 2004            34  1985      19             NA          \n",
       "12 2010            29  1990      20             NA          \n",
       "13 2005            32  1987      18             NA          \n",
       "14 2006            32  1987      19             NA          \n",
       "15 2007            29  1990      17             NA          "
      ]
     },
     "metadata": {},
     "output_type": "display_data"
    }
   ],
   "source": [
    "# select only the necessary columns\n",
    "\n",
    "player_stats_filtered <- player_stats %>%\n",
    "    select('Best Rank', 'Height', 'Seasons', 'Name', 'Turned Pro', 'Age') %>%\n",
    "     drop_na()\n",
    "\n",
    "# tidy up dataframe (ensure correct datatypes and appropriate column names)\n",
    "\n",
    "player_stats_tidy <- player_stats_filtered %>%\n",
    "    separate(col = Age, into = c(\"Age\", \"Birthdate\"), sep = \" \") %>%\n",
    "# separate(col = Birthdate, into = c(\"Year born\"), sep = \"-\") %>%\n",
    "    mutate(Age = as.numeric(Age)) %>%\n",
    "    mutate_at(\"Height\", str_replace, \" cm\", \"\") %>%\n",
    "    mutate(Height = as.numeric(Height)) %>%\n",
    "    rename(Height_cm = Height, Year_turned_pro = \"Turned Pro\", Best_career_rank_to_date = \"Best Rank\")\n",
    "\n",
    "player_stats_tidy$Best_career_rank_to_date <- gsub(\" .+\", \"\", player_stats_tidy$Best_career_rank_to_date)\n",
    "\n",
    "#separate year from date\n",
    "\n",
    "get_date <- as.Date(player_stats_tidy$Birthdate, \"(%d-%m-%Y)\")\n",
    "get_year <- format(get_date, format = \"%Y\")\n",
    "\n",
    "player_stats_tidy$Birthdate <- as.double(get_year)\n",
    "player_stats_tidy <- mutate(player_stats_tidy, Best_career_rank_to_date = as.integer(Best_career_rank_to_date))\n",
    "\n",
    "# create new column that lists a player's age when they turned pro\n",
    "\n",
    "player_stats_tidy <- player_stats_tidy %>%\n",
    "     mutate(Age_turned_pro = Year_turned_pro - Birthdate) %>%\n",
    "    add_column(player_level = \"NA\") %>%\n",
    "    arrange(desc(Best_career_rank_to_date))#adds new column for future categories\n",
    "\n",
    "head(player_stats_tidy, 15)"
   ]
  },
  {
   "cell_type": "markdown",
   "metadata": {},
   "source": [
    "**TODO** In order for us to conduct a classification analysis, we must have labelled categories to ... (on the google doc)\n",
    "Our end goal is to sort Serena Williams into one of these categories based on her statistics compared with our training model."
   ]
  },
  {
   "cell_type": "code",
   "execution_count": 35,
   "metadata": {},
   "outputs": [
    {
     "data": {
      "text/html": [
       "<table class=\"dataframe\">\n",
       "<caption>A tibble: 15 × 9</caption>\n",
       "<thead>\n",
       "\t<tr><th scope=col>Best_career_rank_to_date</th><th scope=col>Height_cm</th><th scope=col>Seasons</th><th scope=col>Name</th><th scope=col>Year_turned_pro</th><th scope=col>Age</th><th scope=col>Birthdate</th><th scope=col>Age_turned_pro</th><th scope=col>player_level</th></tr>\n",
       "\t<tr><th scope=col>&lt;int&gt;</th><th scope=col>&lt;dbl&gt;</th><th scope=col>&lt;dbl&gt;</th><th scope=col>&lt;chr&gt;</th><th scope=col>&lt;dbl&gt;</th><th scope=col>&lt;dbl&gt;</th><th scope=col>&lt;dbl&gt;</th><th scope=col>&lt;dbl&gt;</th><th scope=col>&lt;fct&gt;</th></tr>\n",
       "</thead>\n",
       "<tbody>\n",
       "\t<tr><td>10</td><td>188</td><td> 9</td><td>Pablo Carreno Busta  </td><td>2011</td><td>28</td><td>1991</td><td>20</td><td>top</td></tr>\n",
       "\t<tr><td>10</td><td>185</td><td> 7</td><td>Lucas Pouille        </td><td>2012</td><td>25</td><td>1994</td><td>18</td><td>top</td></tr>\n",
       "\t<tr><td>10</td><td>190</td><td>15</td><td>Ernests Gulbis       </td><td>2004</td><td>31</td><td>1988</td><td>16</td><td>top</td></tr>\n",
       "\t<tr><td> 9</td><td>178</td><td>16</td><td>Fabio Fognini        </td><td>2004</td><td>32</td><td>1987</td><td>17</td><td>top</td></tr>\n",
       "\t<tr><td> 9</td><td>183</td><td>11</td><td>Roberto Bautista Agut</td><td>2005</td><td>31</td><td>1988</td><td>17</td><td>top</td></tr>\n",
       "\t<tr><td> 8</td><td>180</td><td>17</td><td>Janko Tipsarevic     </td><td>2002</td><td>35</td><td>1984</td><td>18</td><td>top</td></tr>\n",
       "\t<tr><td> 8</td><td>206</td><td>14</td><td>John Isner           </td><td>2007</td><td>34</td><td>1985</td><td>22</td><td>top</td></tr>\n",
       "\t<tr><td> 8</td><td>183</td><td>16</td><td>Marcos Baghdatis     </td><td>2003</td><td>34</td><td>1985</td><td>18</td><td>top</td></tr>\n",
       "\t<tr><td> 7</td><td>188</td><td>19</td><td>Fernando Verdasco    </td><td>2001</td><td>36</td><td>1983</td><td>18</td><td>top</td></tr>\n",
       "\t<tr><td> 7</td><td>163</td><td>10</td><td>David Goffin         </td><td>2009</td><td>29</td><td>1990</td><td>19</td><td>top</td></tr>\n",
       "\t<tr><td> 7</td><td>185</td><td>18</td><td>Richard Gasquet      </td><td>2002</td><td>33</td><td>1986</td><td>16</td><td>top</td></tr>\n",
       "\t<tr><td> 6</td><td>193</td><td>17</td><td>Gael Monfils         </td><td>2004</td><td>33</td><td>1986</td><td>18</td><td>top</td></tr>\n",
       "\t<tr><td> 6</td><td>183</td><td>17</td><td>Gilles Simon         </td><td>2002</td><td>35</td><td>1984</td><td>18</td><td>top</td></tr>\n",
       "\t<tr><td> 5</td><td>188</td><td>16</td><td>Jo Wilfried Tsonga   </td><td>2004</td><td>34</td><td>1985</td><td>19</td><td>top</td></tr>\n",
       "\t<tr><td> 5</td><td>180</td><td>21</td><td>Tommy Robredo        </td><td>1998</td><td>37</td><td>1982</td><td>16</td><td>top</td></tr>\n",
       "</tbody>\n",
       "</table>\n"
      ],
      "text/latex": [
       "A tibble: 15 × 9\n",
       "\\begin{tabular}{lllllllll}\n",
       " Best\\_career\\_rank\\_to\\_date & Height\\_cm & Seasons & Name & Year\\_turned\\_pro & Age & Birthdate & Age\\_turned\\_pro & player\\_level\\\\\n",
       " <int> & <dbl> & <dbl> & <chr> & <dbl> & <dbl> & <dbl> & <dbl> & <fct>\\\\\n",
       "\\hline\n",
       "\t 10 & 188 &  9 & Pablo Carreno Busta   & 2011 & 28 & 1991 & 20 & top\\\\\n",
       "\t 10 & 185 &  7 & Lucas Pouille         & 2012 & 25 & 1994 & 18 & top\\\\\n",
       "\t 10 & 190 & 15 & Ernests Gulbis        & 2004 & 31 & 1988 & 16 & top\\\\\n",
       "\t  9 & 178 & 16 & Fabio Fognini         & 2004 & 32 & 1987 & 17 & top\\\\\n",
       "\t  9 & 183 & 11 & Roberto Bautista Agut & 2005 & 31 & 1988 & 17 & top\\\\\n",
       "\t  8 & 180 & 17 & Janko Tipsarevic      & 2002 & 35 & 1984 & 18 & top\\\\\n",
       "\t  8 & 206 & 14 & John Isner            & 2007 & 34 & 1985 & 22 & top\\\\\n",
       "\t  8 & 183 & 16 & Marcos Baghdatis      & 2003 & 34 & 1985 & 18 & top\\\\\n",
       "\t  7 & 188 & 19 & Fernando Verdasco     & 2001 & 36 & 1983 & 18 & top\\\\\n",
       "\t  7 & 163 & 10 & David Goffin          & 2009 & 29 & 1990 & 19 & top\\\\\n",
       "\t  7 & 185 & 18 & Richard Gasquet       & 2002 & 33 & 1986 & 16 & top\\\\\n",
       "\t  6 & 193 & 17 & Gael Monfils          & 2004 & 33 & 1986 & 18 & top\\\\\n",
       "\t  6 & 183 & 17 & Gilles Simon          & 2002 & 35 & 1984 & 18 & top\\\\\n",
       "\t  5 & 188 & 16 & Jo Wilfried Tsonga    & 2004 & 34 & 1985 & 19 & top\\\\\n",
       "\t  5 & 180 & 21 & Tommy Robredo         & 1998 & 37 & 1982 & 16 & top\\\\\n",
       "\\end{tabular}\n"
      ],
      "text/markdown": [
       "\n",
       "A tibble: 15 × 9\n",
       "\n",
       "| Best_career_rank_to_date &lt;int&gt; | Height_cm &lt;dbl&gt; | Seasons &lt;dbl&gt; | Name &lt;chr&gt; | Year_turned_pro &lt;dbl&gt; | Age &lt;dbl&gt; | Birthdate &lt;dbl&gt; | Age_turned_pro &lt;dbl&gt; | player_level &lt;fct&gt; |\n",
       "|---|---|---|---|---|---|---|---|---|\n",
       "| 10 | 188 |  9 | Pablo Carreno Busta   | 2011 | 28 | 1991 | 20 | top |\n",
       "| 10 | 185 |  7 | Lucas Pouille         | 2012 | 25 | 1994 | 18 | top |\n",
       "| 10 | 190 | 15 | Ernests Gulbis        | 2004 | 31 | 1988 | 16 | top |\n",
       "|  9 | 178 | 16 | Fabio Fognini         | 2004 | 32 | 1987 | 17 | top |\n",
       "|  9 | 183 | 11 | Roberto Bautista Agut | 2005 | 31 | 1988 | 17 | top |\n",
       "|  8 | 180 | 17 | Janko Tipsarevic      | 2002 | 35 | 1984 | 18 | top |\n",
       "|  8 | 206 | 14 | John Isner            | 2007 | 34 | 1985 | 22 | top |\n",
       "|  8 | 183 | 16 | Marcos Baghdatis      | 2003 | 34 | 1985 | 18 | top |\n",
       "|  7 | 188 | 19 | Fernando Verdasco     | 2001 | 36 | 1983 | 18 | top |\n",
       "|  7 | 163 | 10 | David Goffin          | 2009 | 29 | 1990 | 19 | top |\n",
       "|  7 | 185 | 18 | Richard Gasquet       | 2002 | 33 | 1986 | 16 | top |\n",
       "|  6 | 193 | 17 | Gael Monfils          | 2004 | 33 | 1986 | 18 | top |\n",
       "|  6 | 183 | 17 | Gilles Simon          | 2002 | 35 | 1984 | 18 | top |\n",
       "|  5 | 188 | 16 | Jo Wilfried Tsonga    | 2004 | 34 | 1985 | 19 | top |\n",
       "|  5 | 180 | 21 | Tommy Robredo         | 1998 | 37 | 1982 | 16 | top |\n",
       "\n"
      ],
      "text/plain": [
       "   Best_career_rank_to_date Height_cm Seasons Name                 \n",
       "1  10                       188        9      Pablo Carreno Busta  \n",
       "2  10                       185        7      Lucas Pouille        \n",
       "3  10                       190       15      Ernests Gulbis       \n",
       "4   9                       178       16      Fabio Fognini        \n",
       "5   9                       183       11      Roberto Bautista Agut\n",
       "6   8                       180       17      Janko Tipsarevic     \n",
       "7   8                       206       14      John Isner           \n",
       "8   8                       183       16      Marcos Baghdatis     \n",
       "9   7                       188       19      Fernando Verdasco    \n",
       "10  7                       163       10      David Goffin         \n",
       "11  7                       185       18      Richard Gasquet      \n",
       "12  6                       193       17      Gael Monfils         \n",
       "13  6                       183       17      Gilles Simon         \n",
       "14  5                       188       16      Jo Wilfried Tsonga   \n",
       "15  5                       180       21      Tommy Robredo        \n",
       "   Year_turned_pro Age Birthdate Age_turned_pro player_level\n",
       "1  2011            28  1991      20             top         \n",
       "2  2012            25  1994      18             top         \n",
       "3  2004            31  1988      16             top         \n",
       "4  2004            32  1987      17             top         \n",
       "5  2005            31  1988      17             top         \n",
       "6  2002            35  1984      18             top         \n",
       "7  2007            34  1985      22             top         \n",
       "8  2003            34  1985      18             top         \n",
       "9  2001            36  1983      18             top         \n",
       "10 2009            29  1990      19             top         \n",
       "11 2002            33  1986      16             top         \n",
       "12 2004            33  1986      18             top         \n",
       "13 2002            35  1984      18             top         \n",
       "14 2004            34  1985      19             top         \n",
       "15 1998            37  1982      16             top         "
      ]
     },
     "metadata": {},
     "output_type": "display_data"
    }
   ],
   "source": [
    "# Give ranks meaningi by sorting them into categories\n",
    "\n",
    "for (row in 1:nrow(player_stats_tidy)) {\n",
    "    rank <- pull(player_stats_tidy[row, \"Best_career_rank_to_date\"])\n",
    "    if(rank < 11) {\n",
    "        player_stats_tidy[row, \"player_level\"] = \"top\" \n",
    "    } else if(rank > 10 & rank < 41) {\n",
    "        player_stats_tidy[row, \"player_level\"] = \"great\"\n",
    "    } else {\n",
    "        player_stats_tidy[row, \"player_level\"] = \"good\"\n",
    "    }\n",
    "}\n",
    "\n",
    "player_stats_tidy <- player_stats_tidy %>%\n",
    "    mutate(player_level = as.factor(player_level)) %>%\n",
    "    arrange(desc(player_level))\n",
    "head(player_stats_tidy, 15)"
   ]
  },
  {
   "cell_type": "markdown",
   "metadata": {},
   "source": [
    "Using the information found on the Serena Williams Wikipedia page, we assign values to a data_frame. This data_frame will be used to eventually predict her player level."
   ]
  },
  {
   "cell_type": "code",
   "execution_count": 36,
   "metadata": {},
   "outputs": [],
   "source": [
    "# create a dataframe for Serena Williams - currently contains junk data\n",
    "serena_data <- data.frame(Best_career_rank_to_date = 1, Height_cm = 175, Seasons = 24, \n",
    "                          Name = \"Serena Williams\", Year_turned_pro = 1995, Age = 38, Birthdate = 1981,\n",
    "                          Age_turned_pro = 14)\n",
    "\n",
    "# serena_data sourced from: https://en.wikipedia.org/wiki/Serena_Williams"
   ]
  },
  {
   "cell_type": "markdown",
   "metadata": {},
   "source": [
    "### 3. Training the Classification Model\n",
    "\n",
    "We will begin by splitting our training and testing data. In this analysis we will be using 70% of our data for training."
   ]
  },
  {
   "cell_type": "code",
   "execution_count": 37,
   "metadata": {},
   "outputs": [],
   "source": [
    "#split the player data into training and testing sets\n",
    "set.seed(2021) #making sure data is reproducible\n",
    "\n",
    "player_stats_split <- initial_split(player_stats_tidy, prop = 0.70, strata = player_level)\n",
    "\n",
    "player_stats_training <- training(player_stats_split)\n",
    "player_stats_testing <- testing(player_stats_split)\n",
    "\n"
   ]
  },
  {
   "cell_type": "markdown",
   "metadata": {},
   "source": [
    "#### 3.1 Exploratory Data Analysis\n",
    "\n",
    "**TODO** After splitting the data into training and testing sets, we created both a visualization and a summary table of the training data, to help us better understand any potential trends or patterns in the data that will guide our analysis. Firstly, we created a scatterplot matrix to visualize the strength and direction of any correlations between the numeric variables in our dataset, if they exist. After that, we created a summary table that shows the proportions of each category, as well as the means of our variables of interest, grouped by category. This allows us to see if there are any obvious differences in the data across categories, as well as check to see if the categories are in roughly equal proportions, incase balancing is needed during analysis."
   ]
  },
  {
   "cell_type": "code",
   "execution_count": 38,
   "metadata": {},
   "outputs": [
    {
     "data": {
      "image/png": "[encoded data removed]",
      "text/plain": [
       "plot without title"
      ]
     },
     "metadata": {
      "image/png": {
       "height": 480,
       "width": 600
      }
     },
     "output_type": "display_data"
    }
   ],
   "source": [
    "# options(repr.plot.width = 12, repr.plot.height = 12)\n",
    "set.seed(2021)\n",
    "explore_plot <- player_stats_training %>%\n",
    "    select(everything(), -\"Name\") %>%\n",
    "    mutate_all(as.numeric) %>%\n",
    "    ggpairs()\n",
    "explore_plot "
   ]
  },
  {
   "cell_type": "code",
   "execution_count": 39,
   "metadata": {},
   "outputs": [
    {
     "data": {
      "text/html": [
       "<table class=\"dataframe\">\n",
       "<caption>A tibble: 3 × 6</caption>\n",
       "<thead>\n",
       "\t<tr><th scope=col>player_level</th><th scope=col>count</th><th scope=col>percentage</th><th scope=col>mean_height_cm</th><th scope=col>mean_number_pro_seasons</th><th scope=col>mean_age_turned_pro</th></tr>\n",
       "\t<tr><th scope=col>&lt;fct&gt;</th><th scope=col>&lt;int&gt;</th><th scope=col>&lt;dbl&gt;</th><th scope=col>&lt;dbl&gt;</th><th scope=col>&lt;dbl&gt;</th><th scope=col>&lt;dbl&gt;</th></tr>\n",
       "</thead>\n",
       "<tbody>\n",
       "\t<tr><td>good </td><td>22</td><td>30.13699</td><td>184.5909</td><td>10.95455</td><td>18.04545</td></tr>\n",
       "\t<tr><td>great</td><td>32</td><td>43.83562</td><td>186.4062</td><td>12.68750</td><td>18.03125</td></tr>\n",
       "\t<tr><td>top  </td><td>19</td><td>26.02740</td><td>184.9474</td><td>15.68421</td><td>17.47368</td></tr>\n",
       "</tbody>\n",
       "</table>\n"
      ],
      "text/latex": [
       "A tibble: 3 × 6\n",
       "\\begin{tabular}{llllll}\n",
       " player\\_level & count & percentage & mean\\_height\\_cm & mean\\_number\\_pro\\_seasons & mean\\_age\\_turned\\_pro\\\\\n",
       " <fct> & <int> & <dbl> & <dbl> & <dbl> & <dbl>\\\\\n",
       "\\hline\n",
       "\t good  & 22 & 30.13699 & 184.5909 & 10.95455 & 18.04545\\\\\n",
       "\t great & 32 & 43.83562 & 186.4062 & 12.68750 & 18.03125\\\\\n",
       "\t top   & 19 & 26.02740 & 184.9474 & 15.68421 & 17.47368\\\\\n",
       "\\end{tabular}\n"
      ],
      "text/markdown": [
       "\n",
       "A tibble: 3 × 6\n",
       "\n",
       "| player_level &lt;fct&gt; | count &lt;int&gt; | percentage &lt;dbl&gt; | mean_height_cm &lt;dbl&gt; | mean_number_pro_seasons &lt;dbl&gt; | mean_age_turned_pro &lt;dbl&gt; |\n",
       "|---|---|---|---|---|---|\n",
       "| good  | 22 | 30.13699 | 184.5909 | 10.95455 | 18.04545 |\n",
       "| great | 32 | 43.83562 | 186.4062 | 12.68750 | 18.03125 |\n",
       "| top   | 19 | 26.02740 | 184.9474 | 15.68421 | 17.47368 |\n",
       "\n"
      ],
      "text/plain": [
       "  player_level count percentage mean_height_cm mean_number_pro_seasons\n",
       "1 good         22    30.13699   184.5909       10.95455               \n",
       "2 great        32    43.83562   186.4062       12.68750               \n",
       "3 top          19    26.02740   184.9474       15.68421               \n",
       "  mean_age_turned_pro\n",
       "1 18.04545           \n",
       "2 18.03125           \n",
       "3 17.47368           "
      ]
     },
     "metadata": {},
     "output_type": "display_data"
    }
   ],
   "source": [
    "#create exploratory data frame that contains means of predictor variables\n",
    "set.seed(2021)\n",
    "\n",
    "player_stats_exploratory <- player_stats_training %>%\n",
    "    group_by(player_level) %>%\n",
    "    summarize(count = n(),\n",
    "              percentage = n() / nrow(player_stats_training) * 100,\n",
    "              mean_height_cm = mean(Height_cm, na.rm = TRUE),\n",
    "              mean_number_pro_seasons = mean(Seasons, na.rm = TRUE),\n",
    "              mean_age_turned_pro = mean(Age_turned_pro, na.rm = TRUE))\n",
    "\n",
    "player_stats_exploratory"
   ]
  },
  {
   "cell_type": "markdown",
   "metadata": {},
   "source": [
    "#### 3.2 Visualizing our predictor variables\n",
    "\n",
    "**TODO** Based upon our scatterplot matrix, the two variables with the strongest correlation to best career rank are height and number of professional seasons played. Using this knowledge, we created a scatterplot that plots height vs number of professional seasons played, coloured by player level. Due to the different scales of the variables, scaling and centering was performed before plotting."
   ]
  },
  {
   "cell_type": "code",
   "execution_count": 40,
   "metadata": {},
   "outputs": [
    {
     "data": {
      "image/png": "[encoded data removed]",
      "text/plain": [
       "plot without title"
      ]
     },
     "metadata": {
      "image/png": {
       "height": 480,
       "width": 600
      }
     },
     "output_type": "display_data"
    }
   ],
   "source": [
    "seas_height_stats <- player_stats_training %>%\n",
    "    select(Seasons, Height_cm, player_level)\n",
    "\n",
    "seas_height_recipe <- recipe(player_level ~ ., data = seas_height_stats) %>%\n",
    "    step_scale(all_predictors()) %>%\n",
    "    step_center(all_predictors()) %>%\n",
    "    prep()\n",
    "\n",
    "season_height_scaled <- bake(seas_height_recipe, seas_height_stats)\n",
    "\n",
    "options(repr.plot.width = 10, repr.plot.height = 8)\n",
    "seas_height_plot <- season_height_scaled %>%\n",
    "    ggplot(aes(x = Seasons, y = Height_cm, colour = player_level)) +\n",
    "    geom_point(alpha = 0.6, size = 6) +\n",
    "    labs(x = \"Number of Professional Seasons (Standardized)\",\n",
    "         y = \"Height (Standardized)\",\n",
    "         colour = \"Player skill level\") +\n",
    "    theme(text = element_text(size = 20))\n",
    "\n",
    "seas_height_plot"
   ]
  },
  {
   "cell_type": "markdown",
   "metadata": {},
   "source": [
    "**TODO** Based on our independent variables compared wiht the best professional career rank, we predict \n",
    "\n",
    "(REVIEW) that she will be in the top category. This is because of her high number of seasons (level goes up with number of seasons) and young age turned pro (as gae goes down, level goes up)."
   ]
  },
  {
   "cell_type": "code",
   "execution_count": 41,
   "metadata": {},
   "outputs": [
    {
     "data": {
      "text/plain": [
       "Recipe\n",
       "\n",
       "Inputs:\n",
       "\n",
       "      role #variables\n",
       "   outcome          1\n",
       " predictor          2\n",
       "\n",
       "Operations:\n",
       "\n",
       "Scaling for all_predictors()\n",
       "Centering for all_predictors()"
      ]
     },
     "metadata": {},
     "output_type": "display_data"
    }
   ],
   "source": [
    "set.seed(2021)\n",
    "# center and scale data in recipe \n",
    "player_recipe <- recipe(player_level ~ + Height_cm + Seasons, data = player_stats_training) %>%\n",
    "   step_scale(all_predictors()) %>%\n",
    "   step_center(all_predictors())\n",
    "player_recipe"
   ]
  },
  {
   "cell_type": "markdown",
   "metadata": {},
   "source": [
    "### 4. Cross-Validation\n",
    "\n",
    "To begin our training with currently unknown value k, we use a 10-fold cross-validation."
   ]
  },
  {
   "cell_type": "code",
   "execution_count": 42,
   "metadata": {},
   "outputs": [],
   "source": [
    "set.seed(2021)\n",
    "player_vfold <- vfold_cv(player_stats_training, v = 10, strata = player_level)"
   ]
  },
  {
   "cell_type": "markdown",
   "metadata": {},
   "source": [
    "#### 4.1 Tuning our data\n",
    "\n",
    "We tune our data because we don't know which k-value to use yet. This process will help us visualize and decide which k-value provides the highest accuracy in the context of our model."
   ]
  },
  {
   "cell_type": "code",
   "execution_count": 43,
   "metadata": {},
   "outputs": [
    {
     "data": {
      "text/html": [
       "<table class=\"dataframe\">\n",
       "<caption>A tibble: 6 × 7</caption>\n",
       "<thead>\n",
       "\t<tr><th scope=col>neighbors</th><th scope=col>.metric</th><th scope=col>.estimator</th><th scope=col>mean</th><th scope=col>n</th><th scope=col>std_err</th><th scope=col>.config</th></tr>\n",
       "\t<tr><th scope=col>&lt;dbl&gt;</th><th scope=col>&lt;chr&gt;</th><th scope=col>&lt;chr&gt;</th><th scope=col>&lt;dbl&gt;</th><th scope=col>&lt;int&gt;</th><th scope=col>&lt;dbl&gt;</th><th scope=col>&lt;chr&gt;</th></tr>\n",
       "</thead>\n",
       "<tbody>\n",
       "\t<tr><td> 1</td><td>accuracy</td><td>multiclass</td><td>0.4000000</td><td>10</td><td>0.05415467</td><td>Preprocessor1_Model01</td></tr>\n",
       "\t<tr><td> 3</td><td>accuracy</td><td>multiclass</td><td>0.4634921</td><td>10</td><td>0.06027103</td><td>Preprocessor1_Model02</td></tr>\n",
       "\t<tr><td> 5</td><td>accuracy</td><td>multiclass</td><td>0.4666667</td><td>10</td><td>0.07339828</td><td>Preprocessor1_Model03</td></tr>\n",
       "\t<tr><td> 7</td><td>accuracy</td><td>multiclass</td><td>0.4833333</td><td>10</td><td>0.07499848</td><td>Preprocessor1_Model04</td></tr>\n",
       "\t<tr><td> 9</td><td>accuracy</td><td>multiclass</td><td>0.4801587</td><td>10</td><td>0.05855173</td><td>Preprocessor1_Model05</td></tr>\n",
       "\t<tr><td>11</td><td>accuracy</td><td>multiclass</td><td>0.4849206</td><td>10</td><td>0.05460833</td><td>Preprocessor1_Model06</td></tr>\n",
       "</tbody>\n",
       "</table>\n"
      ],
      "text/latex": [
       "A tibble: 6 × 7\n",
       "\\begin{tabular}{lllllll}\n",
       " neighbors & .metric & .estimator & mean & n & std\\_err & .config\\\\\n",
       " <dbl> & <chr> & <chr> & <dbl> & <int> & <dbl> & <chr>\\\\\n",
       "\\hline\n",
       "\t  1 & accuracy & multiclass & 0.4000000 & 10 & 0.05415467 & Preprocessor1\\_Model01\\\\\n",
       "\t  3 & accuracy & multiclass & 0.4634921 & 10 & 0.06027103 & Preprocessor1\\_Model02\\\\\n",
       "\t  5 & accuracy & multiclass & 0.4666667 & 10 & 0.07339828 & Preprocessor1\\_Model03\\\\\n",
       "\t  7 & accuracy & multiclass & 0.4833333 & 10 & 0.07499848 & Preprocessor1\\_Model04\\\\\n",
       "\t  9 & accuracy & multiclass & 0.4801587 & 10 & 0.05855173 & Preprocessor1\\_Model05\\\\\n",
       "\t 11 & accuracy & multiclass & 0.4849206 & 10 & 0.05460833 & Preprocessor1\\_Model06\\\\\n",
       "\\end{tabular}\n"
      ],
      "text/markdown": [
       "\n",
       "A tibble: 6 × 7\n",
       "\n",
       "| neighbors &lt;dbl&gt; | .metric &lt;chr&gt; | .estimator &lt;chr&gt; | mean &lt;dbl&gt; | n &lt;int&gt; | std_err &lt;dbl&gt; | .config &lt;chr&gt; |\n",
       "|---|---|---|---|---|---|---|\n",
       "|  1 | accuracy | multiclass | 0.4000000 | 10 | 0.05415467 | Preprocessor1_Model01 |\n",
       "|  3 | accuracy | multiclass | 0.4634921 | 10 | 0.06027103 | Preprocessor1_Model02 |\n",
       "|  5 | accuracy | multiclass | 0.4666667 | 10 | 0.07339828 | Preprocessor1_Model03 |\n",
       "|  7 | accuracy | multiclass | 0.4833333 | 10 | 0.07499848 | Preprocessor1_Model04 |\n",
       "|  9 | accuracy | multiclass | 0.4801587 | 10 | 0.05855173 | Preprocessor1_Model05 |\n",
       "| 11 | accuracy | multiclass | 0.4849206 | 10 | 0.05460833 | Preprocessor1_Model06 |\n",
       "\n"
      ],
      "text/plain": [
       "  neighbors .metric  .estimator mean      n  std_err    .config              \n",
       "1  1        accuracy multiclass 0.4000000 10 0.05415467 Preprocessor1_Model01\n",
       "2  3        accuracy multiclass 0.4634921 10 0.06027103 Preprocessor1_Model02\n",
       "3  5        accuracy multiclass 0.4666667 10 0.07339828 Preprocessor1_Model03\n",
       "4  7        accuracy multiclass 0.4833333 10 0.07499848 Preprocessor1_Model04\n",
       "5  9        accuracy multiclass 0.4801587 10 0.05855173 Preprocessor1_Model05\n",
       "6 11        accuracy multiclass 0.4849206 10 0.05460833 Preprocessor1_Model06"
      ]
     },
     "metadata": {},
     "output_type": "display_data"
    }
   ],
   "source": [
    "set.seed(2021)\n",
    "\n",
    "knn_tune <- nearest_neighbor(weight_func = \"rectangular\", neighbors = tune()) %>%\n",
    "      set_engine('kknn') %>%\n",
    "      set_mode('classification')\n",
    "\n",
    "k_vals <- tibble(neighbors = seq(from = 1, to = 40, by = 2))\n",
    "\n",
    "player_results <- workflow() %>%\n",
    "    add_recipe(player_recipe) %>%\n",
    "    add_model(knn_tune) %>%\n",
    "    tune_grid(resamples = player_vfold, grid = k_vals) %>%\n",
    "    collect_metrics()\n",
    "\n",
    "accuracies <- player_results %>%\n",
    "    filter(.metric == \"accuracy\")\n",
    "head(accuracies)"
   ]
  },
  {
   "cell_type": "markdown",
   "metadata": {},
   "source": [
    "To better understand what our accuracy table means, we visualize it in a line plot:"
   ]
  },
  {
   "cell_type": "code",
   "execution_count": 44,
   "metadata": {},
   "outputs": [
    {
     "data": {
      "image/png": "[encoded data removed]",
      "text/plain": [
       "plot without title"
      ]
     },
     "metadata": {
      "image/png": {
       "height": 480,
       "width": 600
      }
     },
     "output_type": "display_data"
    }
   ],
   "source": [
    "set.seed(2021)\n",
    "\n",
    "cross_val_plot <- ggplot(accuracies, aes(x = neighbors, y = mean)) +\n",
    "                geom_point() +\n",
    "                geom_line() +\n",
    "                xlab(\"Neighbours (K)\") +\n",
    "                ylab(\"Estimate of Accuracy\")\n",
    "cross_val_plot"
   ]
  },
  {
   "cell_type": "markdown",
   "metadata": {},
   "source": [
    "**TODO** k = 19. This value for K is selected because it provides roughly optimal accuracy (53% vs 57%) and changing the value to a nearby number of neighbours doesn't significantly change the accuracy, which makes our model more reliable in the presence of uncertainty. Conversely, choosing either 17 (55%) or 25 (57%) yields a higher accuracy, but changing k by a small amount leads to a significant change in accuracy, thus making the model less reliable.\n",
    "\n",
    "**(note from sandra: shouldn't it be k = 15 because of the highest peak?)**"
   ]
  },
  {
   "cell_type": "markdown",
   "metadata": {},
   "source": [
    "**TODO** explain test prediction process below"
   ]
  },
  {
   "cell_type": "markdown",
   "metadata": {},
   "source": [
    "**TODO** In this next step, we retrain our model using our selected k value and consequently measure its' accuracy against test predictions. In our table below, it shows  that our accuracy estimate is of about 0.56 or 56%."
   ]
  },
  {
   "cell_type": "code",
   "execution_count": 45,
   "metadata": {},
   "outputs": [
    {
     "data": {
      "text/html": [
       "<table class=\"dataframe\">\n",
       "<caption>A tibble: 1 × 3</caption>\n",
       "<thead>\n",
       "\t<tr><th scope=col>.metric</th><th scope=col>.estimator</th><th scope=col>.estimate</th></tr>\n",
       "\t<tr><th scope=col>&lt;chr&gt;</th><th scope=col>&lt;chr&gt;</th><th scope=col>&lt;dbl&gt;</th></tr>\n",
       "</thead>\n",
       "<tbody>\n",
       "\t<tr><td>accuracy</td><td>multiclass</td><td>0.5588235</td></tr>\n",
       "</tbody>\n",
       "</table>\n"
      ],
      "text/latex": [
       "A tibble: 1 × 3\n",
       "\\begin{tabular}{lll}\n",
       " .metric & .estimator & .estimate\\\\\n",
       " <chr> & <chr> & <dbl>\\\\\n",
       "\\hline\n",
       "\t accuracy & multiclass & 0.5588235\\\\\n",
       "\\end{tabular}\n"
      ],
      "text/markdown": [
       "\n",
       "A tibble: 1 × 3\n",
       "\n",
       "| .metric &lt;chr&gt; | .estimator &lt;chr&gt; | .estimate &lt;dbl&gt; |\n",
       "|---|---|---|\n",
       "| accuracy | multiclass | 0.5588235 |\n",
       "\n"
      ],
      "text/plain": [
       "  .metric  .estimator .estimate\n",
       "1 accuracy multiclass 0.5588235"
      ]
     },
     "metadata": {},
     "output_type": "display_data"
    }
   ],
   "source": [
    "set.seed(2021)\n",
    "\n",
    "player_tuned_spec <- nearest_neighbor(weight_func = \"rectangular\", neighbors = 19) %>%\n",
    "    set_engine(\"kknn\") %>%\n",
    "    set_mode(\"classification\")\n",
    "\n",
    "player_fit <- workflow() %>%\n",
    "    add_recipe(player_recipe) %>%\n",
    "    add_model(player_tuned_spec) %>%\n",
    "    fit(data = player_stats_training)\n",
    "\n",
    "player_test_predictions <- predict(player_fit, player_stats_testing) %>%\n",
    "    bind_cols(player_stats_testing)\n",
    "\n",
    "model_accuracy <- player_test_predictions %>%\n",
    "    metrics(truth = player_level, estimate = .pred_class) %>%\n",
    "    filter(.metric == \"accuracy\")\n",
    "\n",
    "model_accuracy\n",
    "\n"
   ]
  },
  {
   "cell_type": "markdown",
   "metadata": {},
   "source": [
    "Consequently, to further visualize this percentage we create a confusion matrix (named \"confusion\") to see how well our tests have been predicting. According to our produced table, our model succeeded in predicting 17 out of 31 categories (also 55%). "
   ]
  },
  {
   "cell_type": "code",
   "execution_count": 46,
   "metadata": {},
   "outputs": [
    {
     "data": {
      "text/plain": [
       "          Truth\n",
       "Prediction good great top\n",
       "     good     7     1   0\n",
       "     great    3    11   8\n",
       "     top      0     3   1"
      ]
     },
     "metadata": {},
     "output_type": "display_data"
    }
   ],
   "source": [
    "confusion <- player_test_predictions %>% \n",
    "      conf_mat(truth = player_level, estimate = .pred_class)\n",
    "\n",
    "confusion"
   ]
  },
  {
   "cell_type": "markdown",
   "metadata": {},
   "source": [
    "### 5. Training Serena\n",
    "\n",
    "Next, it is time to introduce our Serena data to the model. In the following cell, we make a prediction for her player level pa"
   ]
  },
  {
   "cell_type": "code",
   "execution_count": 47,
   "metadata": {},
   "outputs": [
    {
     "data": {
      "text/html": [
       "<table class=\"dataframe\">\n",
       "<caption>A tibble: 1 × 9</caption>\n",
       "<thead>\n",
       "\t<tr><th scope=col>player_level</th><th scope=col>Best_career_rank_to_date</th><th scope=col>Height_cm</th><th scope=col>Seasons</th><th scope=col>Name</th><th scope=col>Year_turned_pro</th><th scope=col>Age</th><th scope=col>Birthdate</th><th scope=col>Age_turned_pro</th></tr>\n",
       "\t<tr><th scope=col>&lt;fct&gt;</th><th scope=col>&lt;dbl&gt;</th><th scope=col>&lt;dbl&gt;</th><th scope=col>&lt;dbl&gt;</th><th scope=col>&lt;chr&gt;</th><th scope=col>&lt;dbl&gt;</th><th scope=col>&lt;dbl&gt;</th><th scope=col>&lt;dbl&gt;</th><th scope=col>&lt;dbl&gt;</th></tr>\n",
       "</thead>\n",
       "<tbody>\n",
       "\t<tr><td>top</td><td>1</td><td>175</td><td>24</td><td>Serena Williams</td><td>1995</td><td>38</td><td>1981</td><td>14</td></tr>\n",
       "</tbody>\n",
       "</table>\n"
      ],
      "text/latex": [
       "A tibble: 1 × 9\n",
       "\\begin{tabular}{lllllllll}\n",
       " player\\_level & Best\\_career\\_rank\\_to\\_date & Height\\_cm & Seasons & Name & Year\\_turned\\_pro & Age & Birthdate & Age\\_turned\\_pro\\\\\n",
       " <fct> & <dbl> & <dbl> & <dbl> & <chr> & <dbl> & <dbl> & <dbl> & <dbl>\\\\\n",
       "\\hline\n",
       "\t top & 1 & 175 & 24 & Serena Williams & 1995 & 38 & 1981 & 14\\\\\n",
       "\\end{tabular}\n"
      ],
      "text/markdown": [
       "\n",
       "A tibble: 1 × 9\n",
       "\n",
       "| player_level &lt;fct&gt; | Best_career_rank_to_date &lt;dbl&gt; | Height_cm &lt;dbl&gt; | Seasons &lt;dbl&gt; | Name &lt;chr&gt; | Year_turned_pro &lt;dbl&gt; | Age &lt;dbl&gt; | Birthdate &lt;dbl&gt; | Age_turned_pro &lt;dbl&gt; |\n",
       "|---|---|---|---|---|---|---|---|---|\n",
       "| top | 1 | 175 | 24 | Serena Williams | 1995 | 38 | 1981 | 14 |\n",
       "\n"
      ],
      "text/plain": [
       "  player_level Best_career_rank_to_date Height_cm Seasons Name           \n",
       "1 top          1                        175       24      Serena Williams\n",
       "  Year_turned_pro Age Birthdate Age_turned_pro\n",
       "1 1995            38  1981      14            "
      ]
     },
     "metadata": {},
     "output_type": "display_data"
    }
   ],
   "source": [
    "#predict Player Level for Serena Williams\n",
    "set.seed(2021)\n",
    "serena_prediction <- predict(player_fit, serena_data) %>%\n",
    "bind_cols(serena_data)\n",
    "\n",
    "serena_prediction <- serena_prediction %>%\n",
    "    rename(player_level = .pred_class)\n",
    "serena_prediction"
   ]
  },
  {
   "cell_type": "markdown",
   "metadata": {},
   "source": [
    "As we can see, Serena's history of seasons played, young age turned pro (14) and best career rank contributed to her being classified as a top player.\n",
    "\n",
    "Our next steps involve standardizing Serena's data and appending it to our men's tennis dataset to see how well she would place when being measured in the men's world of tennis. Then, we standardize it to match the format of the rest of our dataset."
   ]
  },
  {
   "cell_type": "code",
   "execution_count": 48,
   "metadata": {},
   "outputs": [
    {
     "name": "stderr",
     "output_type": "stream",
     "text": [
      "New names:\n",
      "* NA -> ...4\n",
      "\n"
     ]
    },
    {
     "data": {
      "text/html": [
       "<table class=\"dataframe\">\n",
       "<caption>A tibble: 1 × 4</caption>\n",
       "<thead>\n",
       "\t<tr><th scope=col>Height_cm</th><th scope=col>Seasons</th><th scope=col>player_level</th><th scope=col>Name</th></tr>\n",
       "\t<tr><th scope=col>&lt;dbl&gt;</th><th scope=col>&lt;dbl&gt;</th><th scope=col>&lt;fct&gt;</th><th scope=col>&lt;chr&gt;</th></tr>\n",
       "</thead>\n",
       "<tbody>\n",
       "\t<tr><td>-1.42267</td><td>2.877747</td><td>top</td><td>Serena Williams</td></tr>\n",
       "</tbody>\n",
       "</table>\n"
      ],
      "text/latex": [
       "A tibble: 1 × 4\n",
       "\\begin{tabular}{llll}\n",
       " Height\\_cm & Seasons & player\\_level & Name\\\\\n",
       " <dbl> & <dbl> & <fct> & <chr>\\\\\n",
       "\\hline\n",
       "\t -1.42267 & 2.877747 & top & Serena Williams\\\\\n",
       "\\end{tabular}\n"
      ],
      "text/markdown": [
       "\n",
       "A tibble: 1 × 4\n",
       "\n",
       "| Height_cm &lt;dbl&gt; | Seasons &lt;dbl&gt; | player_level &lt;fct&gt; | Name &lt;chr&gt; |\n",
       "|---|---|---|---|\n",
       "| -1.42267 | 2.877747 | top | Serena Williams |\n",
       "\n"
      ],
      "text/plain": [
       "  Height_cm Seasons  player_level Name           \n",
       "1 -1.42267  2.877747 top          Serena Williams"
      ]
     },
     "metadata": {},
     "output_type": "display_data"
    }
   ],
   "source": [
    "#combine serena prediction with rows of the training dataset\n",
    "player_training_with_serena <- rbind(player_stats_training, serena_prediction)\n",
    "\n",
    "#create recipe to help with standardization process\n",
    "serena_recipe <- recipe(player_level ~ + Height_cm + Seasons, data = player_training_with_serena) %>%\n",
    "   step_scale(all_predictors()) %>%\n",
    "   step_center(all_predictors()) %>%\n",
    "   prep()\n",
    "\n",
    "serena_standardized <- bake(serena_recipe, player_training_with_serena) %>%\n",
    "     bind_cols(player_training_with_serena$Name)\n",
    "\n",
    "serena_standardized <- serena_standardized %>%\n",
    "    rename(Name = \"...4\") %>%\n",
    "    filter(Name == \"Serena Williams\") # ..4 is the name of Serena \n",
    "serena_standardized"
   ]
  },
  {
   "cell_type": "markdown",
   "metadata": {},
   "source": [
    "Even when standardized, Serena appears to be a top player when put up against our model, suggesting that height may not be our biggest factor to compare the skills of tennis players.\n",
    "\n",
    "**TODO** Not sure what's going on with this graph but i didn't want to mess it up (it doesn't run right now on my end)\n",
    "\n",
    "*insert description about the graph once fixed*\n"
   ]
  },
  {
   "cell_type": "code",
   "execution_count": 49,
   "metadata": {},
   "outputs": [
    {
     "data": {
      "image/png": "[encoded data removed]",
      "text/plain": [
       "plot without title"
      ]
     },
     "metadata": {
      "image/png": {
       "height": 480,
       "width": 600
      }
     },
     "output_type": "display_data"
    }
   ],
   "source": [
    "#graph location of serena point\n",
    "set.seed(2021)\n",
    "\n",
    "options(repr.plot.width = 10, repr.plot.height = 8)\n",
    "seas_height_plot +\n",
    "    geom_point(aes(x = 2.877747, y = -1.42267), colour = \"black\", size = 6) +\n",
    "    annotate(\"text\", x = 2.75, y = -1.63, label = \"Serena\", size = 6)"
   ]
  },
  {
   "cell_type": "markdown",
   "metadata": {},
   "source": [
    "## Discussion\n",
    "\n",
    "- summarize what you found\n",
    "To perform our analysis, we utilitzed the k-nearest neighbours classification algorithm (maybe define). Our final model used player height, in centimeters, and number of professional seasons played, to predict the category of player skill that they should fall in. These categories, defined as the top ten players fall in to the \"top\" category, players ranked 11-40 fall in to the \"great\" category, and all other players fall in to the \"good category\". Based upon parameter optimization, we found that using the nearest 19 neighbours yielded the best accuracy. Our final model has an estimated accuracy of 56%. We then used this model to predict the category of Serena Williams. The model predicted the category of player skill of Serena Williams to be \"top\". \n",
    "- discuss whether this is what you expected to find?\n",
    "Our original question asked whether physical stature (height) would negatively influence how Serena Williams was classified. Based on our results, the number of seasons played had a greater influence on classification, relative to height. Given Serena Williams lengthy career, it is hard to determine the significance of the results of the classification model. \n",
    "- discuss what impact could such findings have?\n",
    "The limitations of this model exist in part due to a lack of knowledge on what predictors stratify male and female top tennis players, if there even are any to begin with. This report highlights the need for data to be collected on matches that occur between top male and top female players. Future studies could involve either hosting a tournament between elite men and women tennis players and collecting data, or the compiling of existing data into a tidy dataset. \n",
    "- discuss what future questions could this lead to?\n",
    "\n",
    "\n",
    "Assumptions we had to make:\n",
    "- all players were at their peak performance\n",
    "- tennis ability is static and consistent across games\n",
    "\n",
    "Future questions\n",
    "- its not relaly possible to compare serena directly because her stats are from playing against a whole other database of female players, whereas the mens data set was consistently male-v-male with each other  \n",
    "- with time and money, we could arrange a co-ed tournament to help fix this issue and directly analyze\n",
    "- even with these suggestions, our accuracy level was pretty low and barely passing, indicating that tennis is simply hard to measure. Every player is individual in their own way, and there are so many little intricacies to account for beyond the data set (such as mental health on playday, the weather, what kind of court they're playing on, etc). Especially since it is an individual sport.\n"
   ]
  },
  {
   "cell_type": "markdown",
   "metadata": {},
   "source": [
    "## References\n",
    "\n",
    "found in google doc, but not cited lmao"
   ]
  },
  {
   "cell_type": "code",
   "execution_count": null,
   "metadata": {},
   "outputs": [],
   "source": []
  }
 ],
 "metadata": {
  "kernelspec": {
   "display_name": "R",
   "language": "R",
   "name": "ir"
  },
  "language_info": {
   "codemirror_mode": "r",
   "file_extension": ".r",
   "mimetype": "text/x-r-source",
   "name": "R",
   "pygments_lexer": "r",
   "version": "4.0.3"
  }
 },
 "nbformat": 4,
 "nbformat_minor": 4
}
