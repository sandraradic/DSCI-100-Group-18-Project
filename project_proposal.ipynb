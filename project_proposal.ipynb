{
 "cells": [
  {
   "cell_type": "markdown",
   "metadata": {},
   "source": [
    "# Williams vs ATP Top 500\n",
    "Group 18 Project Proposal by: Sandra Radic, Charlie Sushams, Alex Grinius, & Clare Vu"
   ]
  },
  {
   "cell_type": "markdown",
   "metadata": {},
   "source": [
    "## Introduction\n",
    "\n",
    "In the world of sports, events are often divided between males and females for fairness. Therefore, female and male statistics are not usually compared in one group. However, there are many outstanding female players that could very well pose as serious competition to the male dominated sport - 23-time Grand Slam champion Serena Williams is definitely one of them. Williams is ranked number 1 in women's tennis, and started her professional career in her early teenage years, reflecting her exceptional skill. This leads to our question: How would Serena Williams rank amongst the top 500 male players? Our group intends to analyze the factors that separate men's and women's sports, and use them in a classification model to predict which category (ranks from 1 - 501 players) Williams would fall under if she were to partake in a male-only tournament. To conduct this analysis, we will be using the Player Stats for Top 500 players dataset, from  https://www.ultimatetennisstatistics.com/. We will focusing on height, number of seasons played, and the age the player began their professional career. This will allow us to examine whether physical stature serves as a male advantage or not, and otherwise compares skill level. Consequently, we will be creating categories using the \"best rank\" column to further sort our data and choose a new rank level for Serena. "
   ]
  },
  {
   "cell_type": "markdown",
   "metadata": {},
   "source": [
    "## Preliminary exploratory data analysis:"
   ]
  },
  {
   "cell_type": "code",
   "execution_count": 1,
   "metadata": {},
   "outputs": [
    {
     "name": "stderr",
     "output_type": "stream",
     "text": [
      "Warning message:\n",
      "\"package 'tidyverse' was built under R version 4.0.5\"\n",
      "-- \u001b[1mAttaching packages\u001b[22m ------------------------------------------------------------------------------- tidyverse 1.3.1 --\n",
      "\n",
      "\u001b[32mv\u001b[39m \u001b[34mggplot2\u001b[39m 3.3.5     \u001b[32mv\u001b[39m \u001b[34mpurrr  \u001b[39m 0.3.4\n",
      "\u001b[32mv\u001b[39m \u001b[34mtibble \u001b[39m 3.1.5     \u001b[32mv\u001b[39m \u001b[34mdplyr  \u001b[39m 1.0.7\n",
      "\u001b[32mv\u001b[39m \u001b[34mtidyr  \u001b[39m 1.1.4     \u001b[32mv\u001b[39m \u001b[34mstringr\u001b[39m 1.4.0\n",
      "\u001b[32mv\u001b[39m \u001b[34mreadr  \u001b[39m 1.4.0     \u001b[32mv\u001b[39m \u001b[34mforcats\u001b[39m 0.5.1\n",
      "\n",
      "Warning message:\n",
      "\"package 'ggplot2' was built under R version 4.0.5\"\n",
      "Warning message:\n",
      "\"package 'tibble' was built under R version 4.0.5\"\n",
      "Warning message:\n",
      "\"package 'tidyr' was built under R version 4.0.5\"\n",
      "Warning message:\n",
      "\"package 'readr' was built under R version 4.0.4\"\n",
      "Warning message:\n",
      "\"package 'dplyr' was built under R version 4.0.5\"\n",
      "Warning message:\n",
      "\"package 'stringr' was built under R version 4.0.5\"\n",
      "Warning message:\n",
      "\"package 'forcats' was built under R version 4.0.4\"\n",
      "-- \u001b[1mConflicts\u001b[22m ---------------------------------------------------------------------------------- tidyverse_conflicts() --\n",
      "\u001b[31mx\u001b[39m \u001b[34mdplyr\u001b[39m::\u001b[32mfilter()\u001b[39m masks \u001b[34mstats\u001b[39m::filter()\n",
      "\u001b[31mx\u001b[39m \u001b[34mdplyr\u001b[39m::\u001b[32mlag()\u001b[39m    masks \u001b[34mstats\u001b[39m::lag()\n",
      "\n",
      "Warning message:\n",
      "\"package 'tidymodels' was built under R version 4.0.5\"\n",
      "Registered S3 method overwritten by 'tune':\n",
      "  method                   from   \n",
      "  required_pkgs.model_spec parsnip\n",
      "\n",
      "-- \u001b[1mAttaching packages\u001b[22m ------------------------------------------------------------------------------ tidymodels 0.1.4 --\n",
      "\n",
      "\u001b[32mv\u001b[39m \u001b[34mbroom       \u001b[39m 0.7.10     \u001b[32mv\u001b[39m \u001b[34mrsample     \u001b[39m 0.1.1 \n",
      "\u001b[32mv\u001b[39m \u001b[34mdials       \u001b[39m 0.0.10     \u001b[32mv\u001b[39m \u001b[34mtune        \u001b[39m 0.1.6 \n",
      "\u001b[32mv\u001b[39m \u001b[34minfer       \u001b[39m 1.0.0      \u001b[32mv\u001b[39m \u001b[34mworkflows   \u001b[39m 0.2.4 \n",
      "\u001b[32mv\u001b[39m \u001b[34mmodeldata   \u001b[39m 0.1.1      \u001b[32mv\u001b[39m \u001b[34mworkflowsets\u001b[39m 0.1.0 \n",
      "\u001b[32mv\u001b[39m \u001b[34mparsnip     \u001b[39m 0.1.7      \u001b[32mv\u001b[39m \u001b[34myardstick   \u001b[39m 0.0.8 \n",
      "\u001b[32mv\u001b[39m \u001b[34mrecipes     \u001b[39m 0.1.17     \n",
      "\n",
      "Warning message:\n",
      "\"package 'broom' was built under R version 4.0.5\"\n",
      "Warning message:\n",
      "\"package 'dials' was built under R version 4.0.5\"\n",
      "Warning message:\n",
      "\"package 'scales' was built under R version 4.0.5\"\n",
      "Warning message:\n",
      "\"package 'infer' was built under R version 4.0.5\"\n",
      "Warning message:\n",
      "\"package 'modeldata' was built under R version 4.0.5\"\n",
      "Warning message:\n",
      "\"package 'parsnip' was built under R version 4.0.5\"\n",
      "Warning message:\n",
      "\"package 'recipes' was built under R version 4.0.5\"\n",
      "Warning message:\n",
      "\"package 'tune' was built under R version 4.0.5\"\n",
      "Warning message:\n",
      "\"package 'workflows' was built under R version 4.0.5\"\n",
      "Warning message:\n",
      "\"package 'workflowsets' was built under R version 4.0.5\"\n",
      "Warning message:\n",
      "\"package 'yardstick' was built under R version 4.0.5\"\n",
      "-- \u001b[1mConflicts\u001b[22m --------------------------------------------------------------------------------- tidymodels_conflicts() --\n",
      "\u001b[31mx\u001b[39m \u001b[34mscales\u001b[39m::\u001b[32mdiscard()\u001b[39m masks \u001b[34mpurrr\u001b[39m::discard()\n",
      "\u001b[31mx\u001b[39m \u001b[34mdplyr\u001b[39m::\u001b[32mfilter()\u001b[39m   masks \u001b[34mstats\u001b[39m::filter()\n",
      "\u001b[31mx\u001b[39m \u001b[34mrecipes\u001b[39m::\u001b[32mfixed()\u001b[39m  masks \u001b[34mstringr\u001b[39m::fixed()\n",
      "\u001b[31mx\u001b[39m \u001b[34mdplyr\u001b[39m::\u001b[32mlag()\u001b[39m      masks \u001b[34mstats\u001b[39m::lag()\n",
      "\u001b[31mx\u001b[39m \u001b[34myardstick\u001b[39m::\u001b[32mspec()\u001b[39m masks \u001b[34mreadr\u001b[39m::spec()\n",
      "\u001b[31mx\u001b[39m \u001b[34mrecipes\u001b[39m::\u001b[32mstep()\u001b[39m   masks \u001b[34mstats\u001b[39m::step()\n",
      "\u001b[34m*\u001b[39m Learn how to get started at \u001b[32mhttps://www.tidymodels.org/start/\u001b[39m\n",
      "\n",
      "Warning message:\n",
      "\"package 'repr' was built under R version 4.0.5\"\n",
      "Warning message:\n",
      "\"package 'cowplot' was built under R version 4.0.5\"\n",
      "Warning message:\n",
      "\"package 'GGally' was built under R version 4.0.5\"\n",
      "Registered S3 method overwritten by 'GGally':\n",
      "  method from   \n",
      "  +.gg   ggplot2\n",
      "\n"
     ]
    }
   ],
   "source": [
    "library(tidyverse)\n",
    "library(tidymodels)\n",
    "library(repr)\n",
    "library(cowplot)\n",
    "library(scales)\n",
    "library(stringr)\n",
    "library(GGally)"
   ]
  },
  {
   "cell_type": "code",
   "execution_count": 2,
   "metadata": {},
   "outputs": [
    {
     "name": "stderr",
     "output_type": "stream",
     "text": [
      "Warning message:\n",
      "\"Missing column names filled in: 'X1' [1]\"\n",
      "\n",
      "\u001b[36m--\u001b[39m \u001b[1m\u001b[1mColumn specification\u001b[1m\u001b[22m \u001b[36m------------------------------------------------------------------------------------------------\u001b[39m\n",
      "cols(\n",
      "  .default = col_character(),\n",
      "  X1 = \u001b[32mcol_double()\u001b[39m,\n",
      "  `Turned Pro` = \u001b[32mcol_double()\u001b[39m,\n",
      "  Seasons = \u001b[32mcol_double()\u001b[39m,\n",
      "  Titles = \u001b[32mcol_double()\u001b[39m,\n",
      "  `Best Season` = \u001b[32mcol_double()\u001b[39m,\n",
      "  Retired = \u001b[32mcol_double()\u001b[39m,\n",
      "  Masters = \u001b[32mcol_double()\u001b[39m,\n",
      "  `Grand Slams` = \u001b[32mcol_double()\u001b[39m,\n",
      "  `Davis Cups` = \u001b[32mcol_double()\u001b[39m,\n",
      "  `Team Cups` = \u001b[32mcol_double()\u001b[39m,\n",
      "  Olympics = \u001b[32mcol_double()\u001b[39m,\n",
      "  `Weeks at No. 1` = \u001b[32mcol_double()\u001b[39m,\n",
      "  `Tour Finals` = \u001b[32mcol_double()\u001b[39m\n",
      ")\n",
      "\u001b[36mi\u001b[39m Use \u001b[30m\u001b[47m\u001b[30m\u001b[47m`spec()`\u001b[47m\u001b[30m\u001b[49m\u001b[39m for the full column specifications.\n",
      "\n",
      "\n"
     ]
    },
    {
     "data": {
      "text/html": [
       "<table class=\"dataframe\">\n",
       "<caption>A tibble: 6 × 38</caption>\n",
       "<thead>\n",
       "\t<tr><th scope=col>X1</th><th scope=col>Age</th><th scope=col>Country</th><th scope=col>Plays</th><th scope=col>Wikipedia</th><th scope=col>Current Rank</th><th scope=col>Best Rank</th><th scope=col>Name</th><th scope=col>Backhand</th><th scope=col>Prize Money</th><th scope=col>...</th><th scope=col>Facebook</th><th scope=col>Twitter</th><th scope=col>Nicknames</th><th scope=col>Grand Slams</th><th scope=col>Davis Cups</th><th scope=col>Web Site</th><th scope=col>Team Cups</th><th scope=col>Olympics</th><th scope=col>Weeks at No. 1</th><th scope=col>Tour Finals</th></tr>\n",
       "\t<tr><th scope=col>&lt;dbl&gt;</th><th scope=col>&lt;chr&gt;</th><th scope=col>&lt;chr&gt;</th><th scope=col>&lt;chr&gt;</th><th scope=col>&lt;chr&gt;</th><th scope=col>&lt;chr&gt;</th><th scope=col>&lt;chr&gt;</th><th scope=col>&lt;chr&gt;</th><th scope=col>&lt;chr&gt;</th><th scope=col>&lt;chr&gt;</th><th scope=col>...</th><th scope=col>&lt;chr&gt;</th><th scope=col>&lt;chr&gt;</th><th scope=col>&lt;chr&gt;</th><th scope=col>&lt;dbl&gt;</th><th scope=col>&lt;dbl&gt;</th><th scope=col>&lt;chr&gt;</th><th scope=col>&lt;dbl&gt;</th><th scope=col>&lt;dbl&gt;</th><th scope=col>&lt;dbl&gt;</th><th scope=col>&lt;dbl&gt;</th></tr>\n",
       "</thead>\n",
       "<tbody>\n",
       "\t<tr><td>0</td><td>26 (25-04-1993)</td><td>Brazil            </td><td>Right-handed</td><td>Wikipedia</td><td>378 (97) </td><td>363 (04-11-2019)</td><td>Oscar Jose Gutierrez</td><td>NA        </td><td>NA          </td><td>...</td><td>NA</td><td>NA</td><td>NA</td><td>NA</td><td>NA</td><td>NA</td><td>NA</td><td>NA</td><td>NA</td><td>NA</td></tr>\n",
       "\t<tr><td>1</td><td>18 (22-12-2001)</td><td>United Kingdom    </td><td>Left-handed </td><td>Wikipedia</td><td>326 (119)</td><td>316 (14-10-2019)</td><td>Jack Draper         </td><td>Two-handed</td><td>$59,040     </td><td>...</td><td>NA</td><td>NA</td><td>NA</td><td>NA</td><td>NA</td><td>NA</td><td>NA</td><td>NA</td><td>NA</td><td>NA</td></tr>\n",
       "\t<tr><td>2</td><td>32 (03-11-1987)</td><td>Slovakia          </td><td>Right-handed</td><td>Wikipedia</td><td>178 (280)</td><td>44 (14-01-2013) </td><td>Lukas Lacko         </td><td>Two-handed</td><td>US$3,261,567</td><td>...</td><td>NA</td><td>NA</td><td>NA</td><td>NA</td><td>NA</td><td>NA</td><td>NA</td><td>NA</td><td>NA</td><td>NA</td></tr>\n",
       "\t<tr><td>3</td><td>21 (29-05-1998)</td><td>Korea, Republic of</td><td>Right-handed</td><td>Wikipedia</td><td>236 (199)</td><td>130 (10-04-2017)</td><td>Duck Hee Lee        </td><td>Two-handed</td><td>$374,093    </td><td>...</td><td>NA</td><td>NA</td><td>NA</td><td>NA</td><td>NA</td><td>NA</td><td>NA</td><td>NA</td><td>NA</td><td>NA</td></tr>\n",
       "\t<tr><td>4</td><td>27 (21-10-1992)</td><td>Australia         </td><td>Right-handed</td><td>Wikipedia</td><td>183 (273)</td><td>17 (11-01-2016) </td><td>Bernard Tomic       </td><td>Two-handed</td><td>US$6,091,971</td><td>...</td><td>NA</td><td>NA</td><td>NA</td><td>NA</td><td>NA</td><td>NA</td><td>NA</td><td>NA</td><td>NA</td><td>NA</td></tr>\n",
       "\t<tr><td>5</td><td>22 (11-02-1997)</td><td>Poland            </td><td>Right-handed</td><td>Wikipedia</td><td>31 (1398)</td><td>31 (20-01-2020) </td><td>Hubert Hurkacz      </td><td>Two-handed</td><td>$1,517,157  </td><td>...</td><td>NA</td><td>NA</td><td>NA</td><td>NA</td><td>NA</td><td>NA</td><td>NA</td><td>NA</td><td>NA</td><td>NA</td></tr>\n",
       "</tbody>\n",
       "</table>\n"
      ],
      "text/latex": [
       "A tibble: 6 × 38\n",
       "\\begin{tabular}{lllllllllllllllllllll}\n",
       " X1 & Age & Country & Plays & Wikipedia & Current Rank & Best Rank & Name & Backhand & Prize Money & ... & Facebook & Twitter & Nicknames & Grand Slams & Davis Cups & Web Site & Team Cups & Olympics & Weeks at No. 1 & Tour Finals\\\\\n",
       " <dbl> & <chr> & <chr> & <chr> & <chr> & <chr> & <chr> & <chr> & <chr> & <chr> & ... & <chr> & <chr> & <chr> & <dbl> & <dbl> & <chr> & <dbl> & <dbl> & <dbl> & <dbl>\\\\\n",
       "\\hline\n",
       "\t 0 & 26 (25-04-1993) & Brazil             & Right-handed & Wikipedia & 378 (97)  & 363 (04-11-2019) & Oscar Jose Gutierrez & NA         & NA           & ... & NA & NA & NA & NA & NA & NA & NA & NA & NA & NA\\\\\n",
       "\t 1 & 18 (22-12-2001) & United Kingdom     & Left-handed  & Wikipedia & 326 (119) & 316 (14-10-2019) & Jack Draper          & Two-handed & \\$59,040      & ... & NA & NA & NA & NA & NA & NA & NA & NA & NA & NA\\\\\n",
       "\t 2 & 32 (03-11-1987) & Slovakia           & Right-handed & Wikipedia & 178 (280) & 44 (14-01-2013)  & Lukas Lacko          & Two-handed & US\\$3,261,567 & ... & NA & NA & NA & NA & NA & NA & NA & NA & NA & NA\\\\\n",
       "\t 3 & 21 (29-05-1998) & Korea, Republic of & Right-handed & Wikipedia & 236 (199) & 130 (10-04-2017) & Duck Hee Lee         & Two-handed & \\$374,093     & ... & NA & NA & NA & NA & NA & NA & NA & NA & NA & NA\\\\\n",
       "\t 4 & 27 (21-10-1992) & Australia          & Right-handed & Wikipedia & 183 (273) & 17 (11-01-2016)  & Bernard Tomic        & Two-handed & US\\$6,091,971 & ... & NA & NA & NA & NA & NA & NA & NA & NA & NA & NA\\\\\n",
       "\t 5 & 22 (11-02-1997) & Poland             & Right-handed & Wikipedia & 31 (1398) & 31 (20-01-2020)  & Hubert Hurkacz       & Two-handed & \\$1,517,157   & ... & NA & NA & NA & NA & NA & NA & NA & NA & NA & NA\\\\\n",
       "\\end{tabular}\n"
      ],
      "text/markdown": [
       "\n",
       "A tibble: 6 × 38\n",
       "\n",
       "| X1 &lt;dbl&gt; | Age &lt;chr&gt; | Country &lt;chr&gt; | Plays &lt;chr&gt; | Wikipedia &lt;chr&gt; | Current Rank &lt;chr&gt; | Best Rank &lt;chr&gt; | Name &lt;chr&gt; | Backhand &lt;chr&gt; | Prize Money &lt;chr&gt; | ... ... | Facebook &lt;chr&gt; | Twitter &lt;chr&gt; | Nicknames &lt;chr&gt; | Grand Slams &lt;dbl&gt; | Davis Cups &lt;dbl&gt; | Web Site &lt;chr&gt; | Team Cups &lt;dbl&gt; | Olympics &lt;dbl&gt; | Weeks at No. 1 &lt;dbl&gt; | Tour Finals &lt;dbl&gt; |\n",
       "|---|---|---|---|---|---|---|---|---|---|---|---|---|---|---|---|---|---|---|---|---|\n",
       "| 0 | 26 (25-04-1993) | Brazil             | Right-handed | Wikipedia | 378 (97)  | 363 (04-11-2019) | Oscar Jose Gutierrez | NA         | NA           | ... | NA | NA | NA | NA | NA | NA | NA | NA | NA | NA |\n",
       "| 1 | 18 (22-12-2001) | United Kingdom     | Left-handed  | Wikipedia | 326 (119) | 316 (14-10-2019) | Jack Draper          | Two-handed | $59,040      | ... | NA | NA | NA | NA | NA | NA | NA | NA | NA | NA |\n",
       "| 2 | 32 (03-11-1987) | Slovakia           | Right-handed | Wikipedia | 178 (280) | 44 (14-01-2013)  | Lukas Lacko          | Two-handed | US$3,261,567 | ... | NA | NA | NA | NA | NA | NA | NA | NA | NA | NA |\n",
       "| 3 | 21 (29-05-1998) | Korea, Republic of | Right-handed | Wikipedia | 236 (199) | 130 (10-04-2017) | Duck Hee Lee         | Two-handed | $374,093     | ... | NA | NA | NA | NA | NA | NA | NA | NA | NA | NA |\n",
       "| 4 | 27 (21-10-1992) | Australia          | Right-handed | Wikipedia | 183 (273) | 17 (11-01-2016)  | Bernard Tomic        | Two-handed | US$6,091,971 | ... | NA | NA | NA | NA | NA | NA | NA | NA | NA | NA |\n",
       "| 5 | 22 (11-02-1997) | Poland             | Right-handed | Wikipedia | 31 (1398) | 31 (20-01-2020)  | Hubert Hurkacz       | Two-handed | $1,517,157   | ... | NA | NA | NA | NA | NA | NA | NA | NA | NA | NA |\n",
       "\n"
      ],
      "text/plain": [
       "  X1 Age             Country            Plays        Wikipedia Current Rank\n",
       "1 0  26 (25-04-1993) Brazil             Right-handed Wikipedia 378 (97)    \n",
       "2 1  18 (22-12-2001) United Kingdom     Left-handed  Wikipedia 326 (119)   \n",
       "3 2  32 (03-11-1987) Slovakia           Right-handed Wikipedia 178 (280)   \n",
       "4 3  21 (29-05-1998) Korea, Republic of Right-handed Wikipedia 236 (199)   \n",
       "5 4  27 (21-10-1992) Australia          Right-handed Wikipedia 183 (273)   \n",
       "6 5  22 (11-02-1997) Poland             Right-handed Wikipedia 31 (1398)   \n",
       "  Best Rank        Name                 Backhand   Prize Money  ... Facebook\n",
       "1 363 (04-11-2019) Oscar Jose Gutierrez NA         NA           ... NA      \n",
       "2 316 (14-10-2019) Jack Draper          Two-handed $59,040      ... NA      \n",
       "3 44 (14-01-2013)  Lukas Lacko          Two-handed US$3,261,567 ... NA      \n",
       "4 130 (10-04-2017) Duck Hee Lee         Two-handed $374,093     ... NA      \n",
       "5 17 (11-01-2016)  Bernard Tomic        Two-handed US$6,091,971 ... NA      \n",
       "6 31 (20-01-2020)  Hubert Hurkacz       Two-handed $1,517,157   ... NA      \n",
       "  Twitter Nicknames Grand Slams Davis Cups Web Site Team Cups Olympics\n",
       "1 NA      NA        NA          NA         NA       NA        NA      \n",
       "2 NA      NA        NA          NA         NA       NA        NA      \n",
       "3 NA      NA        NA          NA         NA       NA        NA      \n",
       "4 NA      NA        NA          NA         NA       NA        NA      \n",
       "5 NA      NA        NA          NA         NA       NA        NA      \n",
       "6 NA      NA        NA          NA         NA       NA        NA      \n",
       "  Weeks at No. 1 Tour Finals\n",
       "1 NA             NA         \n",
       "2 NA             NA         \n",
       "3 NA             NA         \n",
       "4 NA             NA         \n",
       "5 NA             NA         \n",
       "6 NA             NA         "
      ]
     },
     "metadata": {},
     "output_type": "display_data"
    }
   ],
   "source": [
    "#read in data\n",
    "player_stats_link <- \"https://drive.google.com/uc?export=download&id=1_MECmUXZuuILYeEOfonSGqodW6qVdhsS\"\n",
    "player_stats <- read_csv(player_stats_link)\n",
    "\n",
    "head(player_stats)"
   ]
  },
  {
   "cell_type": "markdown",
   "metadata": {},
   "source": [
    "# Data Wrangling\n",
    "\n",
    "**TODO** *insert methodology*"
   ]
  },
  {
   "cell_type": "code",
   "execution_count": 3,
   "metadata": {},
   "outputs": [
    {
     "data": {
      "text/html": [
       "<table class=\"dataframe\">\n",
       "<caption>A tibble: 15 × 9</caption>\n",
       "<thead>\n",
       "\t<tr><th scope=col>Best_career_rank_to_date</th><th scope=col>Height_cm</th><th scope=col>Seasons</th><th scope=col>Name</th><th scope=col>Year_turned_pro</th><th scope=col>Age</th><th scope=col>Birthdate</th><th scope=col>Age_turned_pro</th><th scope=col>player_level</th></tr>\n",
       "\t<tr><th scope=col>&lt;int&gt;</th><th scope=col>&lt;dbl&gt;</th><th scope=col>&lt;dbl&gt;</th><th scope=col>&lt;chr&gt;</th><th scope=col>&lt;dbl&gt;</th><th scope=col>&lt;dbl&gt;</th><th scope=col>&lt;dbl&gt;</th><th scope=col>&lt;dbl&gt;</th><th scope=col>&lt;chr&gt;</th></tr>\n",
       "</thead>\n",
       "<tbody>\n",
       "\t<tr><td>183</td><td>183</td><td> 8</td><td>Laurynas Grigelis   </td><td>2008</td><td>28</td><td>1991</td><td>17</td><td>NA</td></tr>\n",
       "\t<tr><td>169</td><td>183</td><td> 5</td><td>Brydan Klein        </td><td>2005</td><td>30</td><td>1989</td><td>16</td><td>NA</td></tr>\n",
       "\t<tr><td>110</td><td>180</td><td>13</td><td>Peter Polansky      </td><td>2007</td><td>31</td><td>1988</td><td>19</td><td>NA</td></tr>\n",
       "\t<tr><td> 99</td><td>180</td><td>10</td><td>Pedro Sousa         </td><td>2007</td><td>31</td><td>1988</td><td>19</td><td>NA</td></tr>\n",
       "\t<tr><td> 98</td><td>180</td><td> 7</td><td>Andrej Martin       </td><td>2005</td><td>30</td><td>1989</td><td>16</td><td>NA</td></tr>\n",
       "\t<tr><td> 89</td><td>190</td><td>12</td><td>James Ward          </td><td>2006</td><td>32</td><td>1987</td><td>19</td><td>NA</td></tr>\n",
       "\t<tr><td> 85</td><td>188</td><td>11</td><td>Matthias Bachinger  </td><td>2005</td><td>32</td><td>1987</td><td>18</td><td>NA</td></tr>\n",
       "\t<tr><td> 84</td><td>183</td><td> 7</td><td>Alessandro Giannessi</td><td>2008</td><td>29</td><td>1990</td><td>18</td><td>NA</td></tr>\n",
       "\t<tr><td> 82</td><td>183</td><td> 9</td><td>James Duckworth     </td><td>2010</td><td>28</td><td>1992</td><td>18</td><td>NA</td></tr>\n",
       "\t<tr><td> 80</td><td>183</td><td> 5</td><td>Gregoire Barrere    </td><td>2012</td><td>25</td><td>1994</td><td>18</td><td>NA</td></tr>\n",
       "\t<tr><td> 78</td><td>190</td><td> 9</td><td>Konstantin Kravchuk </td><td>2004</td><td>34</td><td>1985</td><td>19</td><td>NA</td></tr>\n",
       "\t<tr><td> 71</td><td>183</td><td> 7</td><td>Cedrik Marcel Stebe </td><td>2010</td><td>29</td><td>1990</td><td>20</td><td>NA</td></tr>\n",
       "\t<tr><td> 68</td><td>188</td><td>11</td><td>Blaz Kavcic         </td><td>2005</td><td>32</td><td>1987</td><td>18</td><td>NA</td></tr>\n",
       "\t<tr><td> 68</td><td>175</td><td>11</td><td>Tim Smyczek         </td><td>2006</td><td>32</td><td>1987</td><td>19</td><td>NA</td></tr>\n",
       "\t<tr><td> 65</td><td>185</td><td>12</td><td>Evgeny Donskoy      </td><td>2007</td><td>29</td><td>1990</td><td>17</td><td>NA</td></tr>\n",
       "</tbody>\n",
       "</table>\n"
      ],
      "text/latex": [
       "A tibble: 15 × 9\n",
       "\\begin{tabular}{lllllllll}\n",
       " Best\\_career\\_rank\\_to\\_date & Height\\_cm & Seasons & Name & Year\\_turned\\_pro & Age & Birthdate & Age\\_turned\\_pro & player\\_level\\\\\n",
       " <int> & <dbl> & <dbl> & <chr> & <dbl> & <dbl> & <dbl> & <dbl> & <chr>\\\\\n",
       "\\hline\n",
       "\t 183 & 183 &  8 & Laurynas Grigelis    & 2008 & 28 & 1991 & 17 & NA\\\\\n",
       "\t 169 & 183 &  5 & Brydan Klein         & 2005 & 30 & 1989 & 16 & NA\\\\\n",
       "\t 110 & 180 & 13 & Peter Polansky       & 2007 & 31 & 1988 & 19 & NA\\\\\n",
       "\t  99 & 180 & 10 & Pedro Sousa          & 2007 & 31 & 1988 & 19 & NA\\\\\n",
       "\t  98 & 180 &  7 & Andrej Martin        & 2005 & 30 & 1989 & 16 & NA\\\\\n",
       "\t  89 & 190 & 12 & James Ward           & 2006 & 32 & 1987 & 19 & NA\\\\\n",
       "\t  85 & 188 & 11 & Matthias Bachinger   & 2005 & 32 & 1987 & 18 & NA\\\\\n",
       "\t  84 & 183 &  7 & Alessandro Giannessi & 2008 & 29 & 1990 & 18 & NA\\\\\n",
       "\t  82 & 183 &  9 & James Duckworth      & 2010 & 28 & 1992 & 18 & NA\\\\\n",
       "\t  80 & 183 &  5 & Gregoire Barrere     & 2012 & 25 & 1994 & 18 & NA\\\\\n",
       "\t  78 & 190 &  9 & Konstantin Kravchuk  & 2004 & 34 & 1985 & 19 & NA\\\\\n",
       "\t  71 & 183 &  7 & Cedrik Marcel Stebe  & 2010 & 29 & 1990 & 20 & NA\\\\\n",
       "\t  68 & 188 & 11 & Blaz Kavcic          & 2005 & 32 & 1987 & 18 & NA\\\\\n",
       "\t  68 & 175 & 11 & Tim Smyczek          & 2006 & 32 & 1987 & 19 & NA\\\\\n",
       "\t  65 & 185 & 12 & Evgeny Donskoy       & 2007 & 29 & 1990 & 17 & NA\\\\\n",
       "\\end{tabular}\n"
      ],
      "text/markdown": [
       "\n",
       "A tibble: 15 × 9\n",
       "\n",
       "| Best_career_rank_to_date &lt;int&gt; | Height_cm &lt;dbl&gt; | Seasons &lt;dbl&gt; | Name &lt;chr&gt; | Year_turned_pro &lt;dbl&gt; | Age &lt;dbl&gt; | Birthdate &lt;dbl&gt; | Age_turned_pro &lt;dbl&gt; | player_level &lt;chr&gt; |\n",
       "|---|---|---|---|---|---|---|---|---|\n",
       "| 183 | 183 |  8 | Laurynas Grigelis    | 2008 | 28 | 1991 | 17 | NA |\n",
       "| 169 | 183 |  5 | Brydan Klein         | 2005 | 30 | 1989 | 16 | NA |\n",
       "| 110 | 180 | 13 | Peter Polansky       | 2007 | 31 | 1988 | 19 | NA |\n",
       "|  99 | 180 | 10 | Pedro Sousa          | 2007 | 31 | 1988 | 19 | NA |\n",
       "|  98 | 180 |  7 | Andrej Martin        | 2005 | 30 | 1989 | 16 | NA |\n",
       "|  89 | 190 | 12 | James Ward           | 2006 | 32 | 1987 | 19 | NA |\n",
       "|  85 | 188 | 11 | Matthias Bachinger   | 2005 | 32 | 1987 | 18 | NA |\n",
       "|  84 | 183 |  7 | Alessandro Giannessi | 2008 | 29 | 1990 | 18 | NA |\n",
       "|  82 | 183 |  9 | James Duckworth      | 2010 | 28 | 1992 | 18 | NA |\n",
       "|  80 | 183 |  5 | Gregoire Barrere     | 2012 | 25 | 1994 | 18 | NA |\n",
       "|  78 | 190 |  9 | Konstantin Kravchuk  | 2004 | 34 | 1985 | 19 | NA |\n",
       "|  71 | 183 |  7 | Cedrik Marcel Stebe  | 2010 | 29 | 1990 | 20 | NA |\n",
       "|  68 | 188 | 11 | Blaz Kavcic          | 2005 | 32 | 1987 | 18 | NA |\n",
       "|  68 | 175 | 11 | Tim Smyczek          | 2006 | 32 | 1987 | 19 | NA |\n",
       "|  65 | 185 | 12 | Evgeny Donskoy       | 2007 | 29 | 1990 | 17 | NA |\n",
       "\n"
      ],
      "text/plain": [
       "   Best_career_rank_to_date Height_cm Seasons Name                \n",
       "1  183                      183        8      Laurynas Grigelis   \n",
       "2  169                      183        5      Brydan Klein        \n",
       "3  110                      180       13      Peter Polansky      \n",
       "4   99                      180       10      Pedro Sousa         \n",
       "5   98                      180        7      Andrej Martin       \n",
       "6   89                      190       12      James Ward          \n",
       "7   85                      188       11      Matthias Bachinger  \n",
       "8   84                      183        7      Alessandro Giannessi\n",
       "9   82                      183        9      James Duckworth     \n",
       "10  80                      183        5      Gregoire Barrere    \n",
       "11  78                      190        9      Konstantin Kravchuk \n",
       "12  71                      183        7      Cedrik Marcel Stebe \n",
       "13  68                      188       11      Blaz Kavcic         \n",
       "14  68                      175       11      Tim Smyczek         \n",
       "15  65                      185       12      Evgeny Donskoy      \n",
       "   Year_turned_pro Age Birthdate Age_turned_pro player_level\n",
       "1  2008            28  1991      17             NA          \n",
       "2  2005            30  1989      16             NA          \n",
       "3  2007            31  1988      19             NA          \n",
       "4  2007            31  1988      19             NA          \n",
       "5  2005            30  1989      16             NA          \n",
       "6  2006            32  1987      19             NA          \n",
       "7  2005            32  1987      18             NA          \n",
       "8  2008            29  1990      18             NA          \n",
       "9  2010            28  1992      18             NA          \n",
       "10 2012            25  1994      18             NA          \n",
       "11 2004            34  1985      19             NA          \n",
       "12 2010            29  1990      20             NA          \n",
       "13 2005            32  1987      18             NA          \n",
       "14 2006            32  1987      19             NA          \n",
       "15 2007            29  1990      17             NA          "
      ]
     },
     "metadata": {},
     "output_type": "display_data"
    }
   ],
   "source": [
    "# select only the necessary columns\n",
    "\n",
    "player_stats_filtered <- player_stats %>%\n",
    "    select('Best Rank', 'Height', 'Seasons', 'Name', 'Turned Pro', 'Age') %>%\n",
    "     drop_na()\n",
    "\n",
    "# tidy up dataframe (ensure correct datatypes and appropriate column names)\n",
    "\n",
    "player_stats_tidy <- player_stats_filtered %>%\n",
    "    separate(col = Age, into = c(\"Age\", \"Birthdate\"), sep = \" \") %>%\n",
    "# separate(col = Birthdate, into = c(\"Year born\"), sep = \"-\") %>%\n",
    "    mutate(Age = as.numeric(Age)) %>%\n",
    "    mutate_at(\"Height\", str_replace, \" cm\", \"\") %>%\n",
    "    mutate(Height = as.numeric(Height)) %>%\n",
    "    rename(Height_cm = Height, Year_turned_pro = \"Turned Pro\", Best_career_rank_to_date = \"Best Rank\")\n",
    "\n",
    "player_stats_tidy$Best_career_rank_to_date <- gsub(\" .+\", \"\", player_stats_tidy$Best_career_rank_to_date)\n",
    "\n",
    "#separate year from date\n",
    "\n",
    "get_date <- as.Date(player_stats_tidy$Birthdate, \"(%d-%m-%Y)\")\n",
    "get_year <- format(get_date, format = \"%Y\")\n",
    "\n",
    "player_stats_tidy$Birthdate <- as.double(get_year)\n",
    "player_stats_tidy <- mutate(player_stats_tidy, Best_career_rank_to_date = as.integer(Best_career_rank_to_date))\n",
    "\n",
    "# create new column that lists a player's age when they turned pro\n",
    "\n",
    "player_stats_tidy <- player_stats_tidy %>%\n",
    "     mutate(Age_turned_pro = Year_turned_pro - Birthdate) %>%\n",
    "    add_column(player_level = \"NA\") %>%\n",
    "    arrange(desc(Best_career_rank_to_date))#adds new column for future categories\n",
    "\n",
    "head(player_stats_tidy, 15)"
   ]
  },
  {
   "cell_type": "markdown",
   "metadata": {},
   "source": [
    "**TODO** In order for us to conduct a classification analysis, we must have labelled categories to ...\n",
    "Our end goal is to sort Serena Williams into one of these categories based on her statistics compared with our training model."
   ]
  },
  {
   "cell_type": "code",
   "execution_count": 4,
   "metadata": {},
   "outputs": [
    {
     "data": {
      "text/html": [
       "<table class=\"dataframe\">\n",
       "<caption>A tibble: 15 × 9</caption>\n",
       "<thead>\n",
       "\t<tr><th scope=col>Best_career_rank_to_date</th><th scope=col>Height_cm</th><th scope=col>Seasons</th><th scope=col>Name</th><th scope=col>Year_turned_pro</th><th scope=col>Age</th><th scope=col>Birthdate</th><th scope=col>Age_turned_pro</th><th scope=col>player_level</th></tr>\n",
       "\t<tr><th scope=col>&lt;int&gt;</th><th scope=col>&lt;dbl&gt;</th><th scope=col>&lt;dbl&gt;</th><th scope=col>&lt;chr&gt;</th><th scope=col>&lt;dbl&gt;</th><th scope=col>&lt;dbl&gt;</th><th scope=col>&lt;dbl&gt;</th><th scope=col>&lt;dbl&gt;</th><th scope=col>&lt;fct&gt;</th></tr>\n",
       "</thead>\n",
       "<tbody>\n",
       "\t<tr><td>63</td><td>178</td><td>11</td><td>Rogerio Dutra Silva </td><td>2003</td><td>35</td><td>1984</td><td>19</td><td>good</td></tr>\n",
       "\t<tr><td>63</td><td>190</td><td> 7</td><td>Bradley Klahn       </td><td>2012</td><td>29</td><td>1990</td><td>22</td><td>good</td></tr>\n",
       "\t<tr><td>62</td><td>178</td><td>10</td><td>Frederico Gil       </td><td>2003</td><td>34</td><td>1985</td><td>18</td><td>good</td></tr>\n",
       "\t<tr><td>57</td><td>178</td><td>11</td><td>Gastao Elias        </td><td>2008</td><td>29</td><td>1990</td><td>18</td><td>good</td></tr>\n",
       "\t<tr><td>56</td><td>193</td><td>11</td><td>Marius Copil        </td><td>2008</td><td>29</td><td>1990</td><td>18</td><td>good</td></tr>\n",
       "\t<tr><td>53</td><td>180</td><td>10</td><td>Denis Kudla         </td><td>2010</td><td>27</td><td>1992</td><td>18</td><td>good</td></tr>\n",
       "\t<tr><td>52</td><td>190</td><td>10</td><td>Igor Sijsling       </td><td>2005</td><td>32</td><td>1987</td><td>18</td><td>good</td></tr>\n",
       "\t<tr><td>51</td><td>196</td><td>13</td><td>Daniel Brands       </td><td>2005</td><td>32</td><td>1987</td><td>18</td><td>good</td></tr>\n",
       "\t<tr><td>50</td><td>175</td><td>13</td><td>Ricardas Berankis   </td><td>2007</td><td>29</td><td>1990</td><td>17</td><td>good</td></tr>\n",
       "\t<tr><td>49</td><td>185</td><td>11</td><td>Illya Marchenko     </td><td>2005</td><td>32</td><td>1987</td><td>18</td><td>good</td></tr>\n",
       "\t<tr><td>48</td><td>185</td><td>14</td><td>Daniel Gimeno Traver</td><td>2004</td><td>34</td><td>1985</td><td>19</td><td>good</td></tr>\n",
       "\t<tr><td>44</td><td>185</td><td>14</td><td>Lukas Lacko         </td><td>2005</td><td>32</td><td>1987</td><td>18</td><td>good</td></tr>\n",
       "\t<tr><td>43</td><td>188</td><td>14</td><td>Teymuraz Gabashvili </td><td>2001</td><td>34</td><td>1985</td><td>16</td><td>good</td></tr>\n",
       "\t<tr><td>43</td><td>181</td><td>11</td><td>Aljaz Bedene        </td><td>2008</td><td>30</td><td>1989</td><td>19</td><td>good</td></tr>\n",
       "\t<tr><td>42</td><td>185</td><td>13</td><td>Malek Jaziri        </td><td>2003</td><td>36</td><td>1984</td><td>19</td><td>good</td></tr>\n",
       "</tbody>\n",
       "</table>\n"
      ],
      "text/latex": [
       "A tibble: 15 × 9\n",
       "\\begin{tabular}{lllllllll}\n",
       " Best\\_career\\_rank\\_to\\_date & Height\\_cm & Seasons & Name & Year\\_turned\\_pro & Age & Birthdate & Age\\_turned\\_pro & player\\_level\\\\\n",
       " <int> & <dbl> & <dbl> & <chr> & <dbl> & <dbl> & <dbl> & <dbl> & <fct>\\\\\n",
       "\\hline\n",
       "\t 63 & 178 & 11 & Rogerio Dutra Silva  & 2003 & 35 & 1984 & 19 & good\\\\\n",
       "\t 63 & 190 &  7 & Bradley Klahn        & 2012 & 29 & 1990 & 22 & good\\\\\n",
       "\t 62 & 178 & 10 & Frederico Gil        & 2003 & 34 & 1985 & 18 & good\\\\\n",
       "\t 57 & 178 & 11 & Gastao Elias         & 2008 & 29 & 1990 & 18 & good\\\\\n",
       "\t 56 & 193 & 11 & Marius Copil         & 2008 & 29 & 1990 & 18 & good\\\\\n",
       "\t 53 & 180 & 10 & Denis Kudla          & 2010 & 27 & 1992 & 18 & good\\\\\n",
       "\t 52 & 190 & 10 & Igor Sijsling        & 2005 & 32 & 1987 & 18 & good\\\\\n",
       "\t 51 & 196 & 13 & Daniel Brands        & 2005 & 32 & 1987 & 18 & good\\\\\n",
       "\t 50 & 175 & 13 & Ricardas Berankis    & 2007 & 29 & 1990 & 17 & good\\\\\n",
       "\t 49 & 185 & 11 & Illya Marchenko      & 2005 & 32 & 1987 & 18 & good\\\\\n",
       "\t 48 & 185 & 14 & Daniel Gimeno Traver & 2004 & 34 & 1985 & 19 & good\\\\\n",
       "\t 44 & 185 & 14 & Lukas Lacko          & 2005 & 32 & 1987 & 18 & good\\\\\n",
       "\t 43 & 188 & 14 & Teymuraz Gabashvili  & 2001 & 34 & 1985 & 16 & good\\\\\n",
       "\t 43 & 181 & 11 & Aljaz Bedene         & 2008 & 30 & 1989 & 19 & good\\\\\n",
       "\t 42 & 185 & 13 & Malek Jaziri         & 2003 & 36 & 1984 & 19 & good\\\\\n",
       "\\end{tabular}\n"
      ],
      "text/markdown": [
       "\n",
       "A tibble: 15 × 9\n",
       "\n",
       "| Best_career_rank_to_date &lt;int&gt; | Height_cm &lt;dbl&gt; | Seasons &lt;dbl&gt; | Name &lt;chr&gt; | Year_turned_pro &lt;dbl&gt; | Age &lt;dbl&gt; | Birthdate &lt;dbl&gt; | Age_turned_pro &lt;dbl&gt; | player_level &lt;fct&gt; |\n",
       "|---|---|---|---|---|---|---|---|---|\n",
       "| 63 | 178 | 11 | Rogerio Dutra Silva  | 2003 | 35 | 1984 | 19 | good |\n",
       "| 63 | 190 |  7 | Bradley Klahn        | 2012 | 29 | 1990 | 22 | good |\n",
       "| 62 | 178 | 10 | Frederico Gil        | 2003 | 34 | 1985 | 18 | good |\n",
       "| 57 | 178 | 11 | Gastao Elias         | 2008 | 29 | 1990 | 18 | good |\n",
       "| 56 | 193 | 11 | Marius Copil         | 2008 | 29 | 1990 | 18 | good |\n",
       "| 53 | 180 | 10 | Denis Kudla          | 2010 | 27 | 1992 | 18 | good |\n",
       "| 52 | 190 | 10 | Igor Sijsling        | 2005 | 32 | 1987 | 18 | good |\n",
       "| 51 | 196 | 13 | Daniel Brands        | 2005 | 32 | 1987 | 18 | good |\n",
       "| 50 | 175 | 13 | Ricardas Berankis    | 2007 | 29 | 1990 | 17 | good |\n",
       "| 49 | 185 | 11 | Illya Marchenko      | 2005 | 32 | 1987 | 18 | good |\n",
       "| 48 | 185 | 14 | Daniel Gimeno Traver | 2004 | 34 | 1985 | 19 | good |\n",
       "| 44 | 185 | 14 | Lukas Lacko          | 2005 | 32 | 1987 | 18 | good |\n",
       "| 43 | 188 | 14 | Teymuraz Gabashvili  | 2001 | 34 | 1985 | 16 | good |\n",
       "| 43 | 181 | 11 | Aljaz Bedene         | 2008 | 30 | 1989 | 19 | good |\n",
       "| 42 | 185 | 13 | Malek Jaziri         | 2003 | 36 | 1984 | 19 | good |\n",
       "\n"
      ],
      "text/plain": [
       "   Best_career_rank_to_date Height_cm Seasons Name                \n",
       "1  63                       178       11      Rogerio Dutra Silva \n",
       "2  63                       190        7      Bradley Klahn       \n",
       "3  62                       178       10      Frederico Gil       \n",
       "4  57                       178       11      Gastao Elias        \n",
       "5  56                       193       11      Marius Copil        \n",
       "6  53                       180       10      Denis Kudla         \n",
       "7  52                       190       10      Igor Sijsling       \n",
       "8  51                       196       13      Daniel Brands       \n",
       "9  50                       175       13      Ricardas Berankis   \n",
       "10 49                       185       11      Illya Marchenko     \n",
       "11 48                       185       14      Daniel Gimeno Traver\n",
       "12 44                       185       14      Lukas Lacko         \n",
       "13 43                       188       14      Teymuraz Gabashvili \n",
       "14 43                       181       11      Aljaz Bedene        \n",
       "15 42                       185       13      Malek Jaziri        \n",
       "   Year_turned_pro Age Birthdate Age_turned_pro player_level\n",
       "1  2003            35  1984      19             good        \n",
       "2  2012            29  1990      22             good        \n",
       "3  2003            34  1985      18             good        \n",
       "4  2008            29  1990      18             good        \n",
       "5  2008            29  1990      18             good        \n",
       "6  2010            27  1992      18             good        \n",
       "7  2005            32  1987      18             good        \n",
       "8  2005            32  1987      18             good        \n",
       "9  2007            29  1990      17             good        \n",
       "10 2005            32  1987      18             good        \n",
       "11 2004            34  1985      19             good        \n",
       "12 2005            32  1987      18             good        \n",
       "13 2001            34  1985      16             good        \n",
       "14 2008            30  1989      19             good        \n",
       "15 2003            36  1984      19             good        "
      ]
     },
     "metadata": {},
     "output_type": "display_data"
    }
   ],
   "source": [
    "# Give ranks meaningi by sorting them into categories\n",
    "\n",
    "for (row in 1:nrow(player_stats_tidy)) {\n",
    "    rank <- pull(player_stats_tidy[row, \"Best_career_rank_to_date\"])\n",
    "    if(rank < 11) {\n",
    "        player_stats_tidy[row, \"player_level\"] = \"top\" \n",
    "    } else if(rank > 10 & rank < 41) {\n",
    "        player_stats_tidy[row, \"player_level\"] = \"great\"\n",
    "    } else {\n",
    "        player_stats_tidy[row, \"player_level\"] = \"good\"\n",
    "    }\n",
    "}\n",
    "\n",
    "player_stats_tidy <- player_stats_tidy %>%\n",
    "    mutate(player_level = as.factor(player_level)) %>%\n",
    "    arrange(desc(player_level))\n",
    "tail(player_stats_tidy, 15)"
   ]
  },
  {
   "cell_type": "markdown",
   "metadata": {},
   "source": [
    "**TODO** explain introduction of serena data"
   ]
  },
  {
   "cell_type": "code",
   "execution_count": 5,
   "metadata": {},
   "outputs": [],
   "source": [
    "# create a dataframe for Serena Williams - currently contains junk data\n",
    "serena_data <- data.frame(Best_career_rank_to_date = 1, Height_cm = 175, Seasons = 24, \n",
    "                          Name = \"Serena Williams\", Year_turned_pro = 1995, Age = 38, Birthdate = 1981,\n",
    "                          Age_turned_pro = 14)\n",
    "\n",
    "# serena_data sourced from: https://en.wikipedia.org/wiki/Serena_Williams"
   ]
  },
  {
   "cell_type": "markdown",
   "metadata": {},
   "source": [
    "# Training the Classification Model\n",
    "blahbalh\n",
    "\n",
    "We will begin by splitting our training and testing data. In this analysis we will be using 70% of our data for training."
   ]
  },
  {
   "cell_type": "code",
   "execution_count": 6,
   "metadata": {},
   "outputs": [],
   "source": [
    "#split the player data into training and testing sets\n",
    "set.seed(2021) #making sure data is reproducible\n",
    "\n",
    "player_stats_split <- initial_split(player_stats_tidy, prop = 0.70, strata = player_level)\n",
    "\n",
    "player_stats_training <- training(player_stats_split)\n",
    "player_stats_testing <- testing(player_stats_split)\n",
    "\n"
   ]
  },
  {
   "cell_type": "markdown",
   "metadata": {},
   "source": [
    "## Exploratory Data Analysis\n",
    "\n",
    "**TODO**"
   ]
  },
  {
   "cell_type": "markdown",
   "metadata": {},
   "source": [
    "**TODO** Justify visualization"
   ]
  },
  {
   "cell_type": "code",
   "execution_count": 7,
   "metadata": {},
   "outputs": [
    {
     "name": "stderr",
     "output_type": "stream",
     "text": [
      "Warning message in mask$eval_all_mutate(quo):\n",
      "\"NAs introduced by coercion\"\n"
     ]
    },
    {
     "data": {
      "image/png": "[encoded data removed]",
      "text/plain": [
       "plot without title"
      ]
     },
     "metadata": {
      "image/png": {
       "height": 420,
       "width": 420
      }
     },
     "output_type": "display_data"
    }
   ],
   "source": [
    "# options(repr.plot.width = 12, repr.plot.height = 12)\n",
    "\n",
    "explore_plot <- player_stats_training %>%\n",
    "    mutate_all(as.numeric) %>%\n",
    "    ggpairs()\n",
    "explore_plot #is there a way for us to remove name?"
   ]
  },
  {
   "cell_type": "code",
   "execution_count": 8,
   "metadata": {},
   "outputs": [
    {
     "data": {
      "text/html": [
       "<table class=\"dataframe\">\n",
       "<caption>A tibble: 3 × 6</caption>\n",
       "<thead>\n",
       "\t<tr><th scope=col>player_level</th><th scope=col>count</th><th scope=col>percentage</th><th scope=col>mean_height_cm</th><th scope=col>mean_number_pro_seasons</th><th scope=col>mean_age_turned_pro</th></tr>\n",
       "\t<tr><th scope=col>&lt;fct&gt;</th><th scope=col>&lt;int&gt;</th><th scope=col>&lt;dbl&gt;</th><th scope=col>&lt;dbl&gt;</th><th scope=col>&lt;dbl&gt;</th><th scope=col>&lt;dbl&gt;</th></tr>\n",
       "</thead>\n",
       "<tbody>\n",
       "\t<tr><td>good </td><td>22</td><td>30.13699</td><td>184.5909</td><td>10.95455</td><td>18.04545</td></tr>\n",
       "\t<tr><td>great</td><td>32</td><td>43.83562</td><td>186.4062</td><td>12.68750</td><td>18.03125</td></tr>\n",
       "\t<tr><td>top  </td><td>19</td><td>26.02740</td><td>184.9474</td><td>15.68421</td><td>17.47368</td></tr>\n",
       "</tbody>\n",
       "</table>\n"
      ],
      "text/latex": [
       "A tibble: 3 × 6\n",
       "\\begin{tabular}{llllll}\n",
       " player\\_level & count & percentage & mean\\_height\\_cm & mean\\_number\\_pro\\_seasons & mean\\_age\\_turned\\_pro\\\\\n",
       " <fct> & <int> & <dbl> & <dbl> & <dbl> & <dbl>\\\\\n",
       "\\hline\n",
       "\t good  & 22 & 30.13699 & 184.5909 & 10.95455 & 18.04545\\\\\n",
       "\t great & 32 & 43.83562 & 186.4062 & 12.68750 & 18.03125\\\\\n",
       "\t top   & 19 & 26.02740 & 184.9474 & 15.68421 & 17.47368\\\\\n",
       "\\end{tabular}\n"
      ],
      "text/markdown": [
       "\n",
       "A tibble: 3 × 6\n",
       "\n",
       "| player_level &lt;fct&gt; | count &lt;int&gt; | percentage &lt;dbl&gt; | mean_height_cm &lt;dbl&gt; | mean_number_pro_seasons &lt;dbl&gt; | mean_age_turned_pro &lt;dbl&gt; |\n",
       "|---|---|---|---|---|---|\n",
       "| good  | 22 | 30.13699 | 184.5909 | 10.95455 | 18.04545 |\n",
       "| great | 32 | 43.83562 | 186.4062 | 12.68750 | 18.03125 |\n",
       "| top   | 19 | 26.02740 | 184.9474 | 15.68421 | 17.47368 |\n",
       "\n"
      ],
      "text/plain": [
       "  player_level count percentage mean_height_cm mean_number_pro_seasons\n",
       "1 good         22    30.13699   184.5909       10.95455               \n",
       "2 great        32    43.83562   186.4062       12.68750               \n",
       "3 top          19    26.02740   184.9474       15.68421               \n",
       "  mean_age_turned_pro\n",
       "1 18.04545           \n",
       "2 18.03125           \n",
       "3 17.47368           "
      ]
     },
     "metadata": {},
     "output_type": "display_data"
    },
    {
     "data": {
      "image/png": "[encoded data removed]",
      "text/plain": [
       "plot without title"
      ]
     },
     "metadata": {
      "image/png": {
       "height": 480,
       "width": 600
      }
     },
     "output_type": "display_data"
    }
   ],
   "source": [
    "#create exploratory data frame that contains means of predictor variables\n",
    "\n",
    "player_stats_exploratory <- player_stats_training %>%\n",
    "    group_by(player_level) %>%\n",
    "    summarize(count = n(),\n",
    "              percentage = n() / nrow(player_stats_training) * 100,\n",
    "              mean_height_cm = mean(Height_cm, na.rm = TRUE),\n",
    "              mean_number_pro_seasons = mean(Seasons, na.rm = TRUE),\n",
    "              mean_age_turned_pro = mean(Age_turned_pro, na.rm = TRUE))\n",
    "\n",
    "player_stats_exploratory\n",
    "\n",
    "\n",
    "seas_heigh_stats <- player_stats_training %>%\n",
    "    select(Seasons, Height_cm, player_level)\n",
    "\n",
    "seas_height_recipe <- recipe(player_level ~ ., data = seas_heigh_stats) %>%\n",
    "    step_scale(all_predictors()) %>%\n",
    "    step_center(all_predictors()) %>%\n",
    "    prep()\n",
    "\n",
    "season_height_scaled <- bake(seas_height_recipe, seas_heigh_stats)\n",
    "\n",
    "options(repr.plot.width = 10, repr.plot.height = 8)\n",
    "seas_height_plot <- season_height_scaled %>%\n",
    "    ggplot(aes(x = Seasons, y = Height_cm, colour = player_level)) +\n",
    "    geom_point(alpha = 0.6, size = 6) +\n",
    "    labs(x = \"Number of Professional Seasons (Standardized)\",\n",
    "         y = \"Height (Standardized)\",\n",
    "         colour = \"Player skill level\") +\n",
    "    theme(text = element_text(size = 20))\n",
    "\n",
    "seas_height_plot\n",
    "#create plots to visualize training data\n",
    "# options(repr.plot.width = 15, repr.plot.height = 10)\n",
    "# height_v_rank <- ggplot(player_stats_training, aes(x = Best_career_rank_to_date, y = Height_cm)) +\n",
    "#     geom_point(alpha = 0.6) +\n",
    "#     xlab(\"Best Professional Career Rank\") +\n",
    "#     ylab(\"Height (cm)\") +\n",
    "#     ggtitle(\"Height compared to Best Ranking\")\n",
    "\n",
    "# seasons_v_rank <- ggplot(player_stats_training, aes(x = Best_career_rank_to_date, y = Seasons)) +\n",
    "#     geom_point(alpha = 0.6) +\n",
    "#     xlab(\"Best Professional Career Rank\") +\n",
    "#     ylab(\"Number of Season Played as a Professional\") +\n",
    "#     ggtitle(\"Seasons Played compared to Best Ranking\")\n",
    "\n",
    "# pro_age_v_rank <- ggplot(player_stats_training, aes(x = Best_career_rank_to_date, y = Age_turned_pro)) +\n",
    "#     geom_point(alpha = 0.6) +\n",
    "#     xlab(\"Best Professional Career Rank\") +\n",
    "#     ylab(\"Age When Player Turned Professional\") +\n",
    "#     ggtitle(\"Age turned pro compared to Best Ranking\")\n",
    "\n",
    "# plot_grid(height_v_rank, seasons_v_rank, pro_age_v_rank)"
   ]
  },
  {
   "cell_type": "markdown",
   "metadata": {},
   "source": [
    "**TODO** Based on our independent variables compared wiht the best professional career rank, we predict..."
   ]
  },
  {
   "cell_type": "markdown",
   "metadata": {},
   "source": [
    "**TODO** we make a confusion matrix to ..."
   ]
  },
  {
   "cell_type": "code",
   "execution_count": null,
   "metadata": {},
   "outputs": [],
   "source": []
  },
  {
   "cell_type": "code",
   "execution_count": 9,
   "metadata": {},
   "outputs": [
    {
     "data": {
      "text/plain": [
       "Recipe\n",
       "\n",
       "Inputs:\n",
       "\n",
       "      role #variables\n",
       "   outcome          1\n",
       " predictor          2\n",
       "\n",
       "Operations:\n",
       "\n",
       "Scaling for all_predictors()\n",
       "Centering for all_predictors()"
      ]
     },
     "metadata": {},
     "output_type": "display_data"
    }
   ],
   "source": [
    "set.seed(2021)\n",
    "# center and scale data in recipe \n",
    "player_recipe <- recipe(player_level ~ + Height_cm + Seasons, data = player_stats_training) %>%\n",
    "   step_scale(all_predictors()) %>%\n",
    "   step_center(all_predictors())\n",
    "player_recipe"
   ]
  },
  {
   "cell_type": "markdown",
   "metadata": {},
   "source": [
    "## Cross-Validation\n",
    "\n",
    "To begin our training with currently unknown value k, we use a 10-fold cross-validation."
   ]
  },
  {
   "cell_type": "code",
   "execution_count": 10,
   "metadata": {},
   "outputs": [],
   "source": [
    "set.seed(2021)\n",
    "player_vfold <- vfold_cv(player_stats_training, v = 10, strata = player_level) #not 100% sure if i chose the right column"
   ]
  },
  {
   "cell_type": "markdown",
   "metadata": {},
   "source": [
    "## Tuning our data\n",
    "\n",
    "**TODO** We tune our data to help us visualize and decide which k-value provides the highest accuracy"
   ]
  },
  {
   "cell_type": "code",
   "execution_count": 11,
   "metadata": {},
   "outputs": [
    {
     "name": "stderr",
     "output_type": "stream",
     "text": [
      "Warning message:\n",
      "\"package 'rlang' was built under R version 4.0.5\"\n",
      "Warning message:\n",
      "\"package 'vctrs' was built under R version 4.0.5\"\n",
      "Warning message:\n",
      "\"package 'kknn' was built under R version 4.0.5\"\n"
     ]
    },
    {
     "data": {
      "text/html": [
       "<table class=\"dataframe\">\n",
       "<caption>A tibble: 20 × 7</caption>\n",
       "<thead>\n",
       "\t<tr><th scope=col>neighbors</th><th scope=col>.metric</th><th scope=col>.estimator</th><th scope=col>mean</th><th scope=col>n</th><th scope=col>std_err</th><th scope=col>.config</th></tr>\n",
       "\t<tr><th scope=col>&lt;dbl&gt;</th><th scope=col>&lt;chr&gt;</th><th scope=col>&lt;chr&gt;</th><th scope=col>&lt;dbl&gt;</th><th scope=col>&lt;int&gt;</th><th scope=col>&lt;dbl&gt;</th><th scope=col>&lt;chr&gt;</th></tr>\n",
       "</thead>\n",
       "<tbody>\n",
       "\t<tr><td> 1</td><td>accuracy</td><td>multiclass</td><td>0.4000000</td><td>10</td><td>0.05415467</td><td>Preprocessor1_Model01</td></tr>\n",
       "\t<tr><td> 3</td><td>accuracy</td><td>multiclass</td><td>0.4634921</td><td>10</td><td>0.06027103</td><td>Preprocessor1_Model02</td></tr>\n",
       "\t<tr><td> 5</td><td>accuracy</td><td>multiclass</td><td>0.4666667</td><td>10</td><td>0.07339828</td><td>Preprocessor1_Model03</td></tr>\n",
       "\t<tr><td> 7</td><td>accuracy</td><td>multiclass</td><td>0.4833333</td><td>10</td><td>0.07499848</td><td>Preprocessor1_Model04</td></tr>\n",
       "\t<tr><td> 9</td><td>accuracy</td><td>multiclass</td><td>0.4801587</td><td>10</td><td>0.05855173</td><td>Preprocessor1_Model05</td></tr>\n",
       "\t<tr><td>11</td><td>accuracy</td><td>multiclass</td><td>0.4849206</td><td>10</td><td>0.05460833</td><td>Preprocessor1_Model06</td></tr>\n",
       "\t<tr><td>13</td><td>accuracy</td><td>multiclass</td><td>0.5023810</td><td>10</td><td>0.06471540</td><td>Preprocessor1_Model07</td></tr>\n",
       "\t<tr><td>15</td><td>accuracy</td><td>multiclass</td><td>0.4920635</td><td>10</td><td>0.07354307</td><td>Preprocessor1_Model08</td></tr>\n",
       "\t<tr><td>17</td><td>accuracy</td><td>multiclass</td><td>0.5452381</td><td>10</td><td>0.06149926</td><td>Preprocessor1_Model09</td></tr>\n",
       "\t<tr><td>19</td><td>accuracy</td><td>multiclass</td><td>0.5309524</td><td>10</td><td>0.05473634</td><td>Preprocessor1_Model10</td></tr>\n",
       "\t<tr><td>21</td><td>accuracy</td><td>multiclass</td><td>0.5166667</td><td>10</td><td>0.04841270</td><td>Preprocessor1_Model11</td></tr>\n",
       "\t<tr><td>23</td><td>accuracy</td><td>multiclass</td><td>0.5142857</td><td>10</td><td>0.05580443</td><td>Preprocessor1_Model12</td></tr>\n",
       "\t<tr><td>25</td><td>accuracy</td><td>multiclass</td><td>0.5674603</td><td>10</td><td>0.05177689</td><td>Preprocessor1_Model13</td></tr>\n",
       "\t<tr><td>27</td><td>accuracy</td><td>multiclass</td><td>0.4992063</td><td>10</td><td>0.03454281</td><td>Preprocessor1_Model14</td></tr>\n",
       "\t<tr><td>29</td><td>accuracy</td><td>multiclass</td><td>0.4595238</td><td>10</td><td>0.02884569</td><td>Preprocessor1_Model15</td></tr>\n",
       "\t<tr><td>31</td><td>accuracy</td><td>multiclass</td><td>0.4420635</td><td>10</td><td>0.02864116</td><td>Preprocessor1_Model16</td></tr>\n",
       "\t<tr><td>33</td><td>accuracy</td><td>multiclass</td><td>0.4103175</td><td>10</td><td>0.02188104</td><td>Preprocessor1_Model17</td></tr>\n",
       "\t<tr><td>35</td><td>accuracy</td><td>multiclass</td><td>0.4023810</td><td>10</td><td>0.02021863</td><td>Preprocessor1_Model18</td></tr>\n",
       "\t<tr><td>37</td><td>accuracy</td><td>multiclass</td><td>0.4023810</td><td>10</td><td>0.02021863</td><td>Preprocessor1_Model19</td></tr>\n",
       "\t<tr><td>39</td><td>accuracy</td><td>multiclass</td><td>0.4674603</td><td>10</td><td>0.01864845</td><td>Preprocessor1_Model20</td></tr>\n",
       "</tbody>\n",
       "</table>\n"
      ],
      "text/latex": [
       "A tibble: 20 × 7\n",
       "\\begin{tabular}{lllllll}\n",
       " neighbors & .metric & .estimator & mean & n & std\\_err & .config\\\\\n",
       " <dbl> & <chr> & <chr> & <dbl> & <int> & <dbl> & <chr>\\\\\n",
       "\\hline\n",
       "\t  1 & accuracy & multiclass & 0.4000000 & 10 & 0.05415467 & Preprocessor1\\_Model01\\\\\n",
       "\t  3 & accuracy & multiclass & 0.4634921 & 10 & 0.06027103 & Preprocessor1\\_Model02\\\\\n",
       "\t  5 & accuracy & multiclass & 0.4666667 & 10 & 0.07339828 & Preprocessor1\\_Model03\\\\\n",
       "\t  7 & accuracy & multiclass & 0.4833333 & 10 & 0.07499848 & Preprocessor1\\_Model04\\\\\n",
       "\t  9 & accuracy & multiclass & 0.4801587 & 10 & 0.05855173 & Preprocessor1\\_Model05\\\\\n",
       "\t 11 & accuracy & multiclass & 0.4849206 & 10 & 0.05460833 & Preprocessor1\\_Model06\\\\\n",
       "\t 13 & accuracy & multiclass & 0.5023810 & 10 & 0.06471540 & Preprocessor1\\_Model07\\\\\n",
       "\t 15 & accuracy & multiclass & 0.4920635 & 10 & 0.07354307 & Preprocessor1\\_Model08\\\\\n",
       "\t 17 & accuracy & multiclass & 0.5452381 & 10 & 0.06149926 & Preprocessor1\\_Model09\\\\\n",
       "\t 19 & accuracy & multiclass & 0.5309524 & 10 & 0.05473634 & Preprocessor1\\_Model10\\\\\n",
       "\t 21 & accuracy & multiclass & 0.5166667 & 10 & 0.04841270 & Preprocessor1\\_Model11\\\\\n",
       "\t 23 & accuracy & multiclass & 0.5142857 & 10 & 0.05580443 & Preprocessor1\\_Model12\\\\\n",
       "\t 25 & accuracy & multiclass & 0.5674603 & 10 & 0.05177689 & Preprocessor1\\_Model13\\\\\n",
       "\t 27 & accuracy & multiclass & 0.4992063 & 10 & 0.03454281 & Preprocessor1\\_Model14\\\\\n",
       "\t 29 & accuracy & multiclass & 0.4595238 & 10 & 0.02884569 & Preprocessor1\\_Model15\\\\\n",
       "\t 31 & accuracy & multiclass & 0.4420635 & 10 & 0.02864116 & Preprocessor1\\_Model16\\\\\n",
       "\t 33 & accuracy & multiclass & 0.4103175 & 10 & 0.02188104 & Preprocessor1\\_Model17\\\\\n",
       "\t 35 & accuracy & multiclass & 0.4023810 & 10 & 0.02021863 & Preprocessor1\\_Model18\\\\\n",
       "\t 37 & accuracy & multiclass & 0.4023810 & 10 & 0.02021863 & Preprocessor1\\_Model19\\\\\n",
       "\t 39 & accuracy & multiclass & 0.4674603 & 10 & 0.01864845 & Preprocessor1\\_Model20\\\\\n",
       "\\end{tabular}\n"
      ],
      "text/markdown": [
       "\n",
       "A tibble: 20 × 7\n",
       "\n",
       "| neighbors &lt;dbl&gt; | .metric &lt;chr&gt; | .estimator &lt;chr&gt; | mean &lt;dbl&gt; | n &lt;int&gt; | std_err &lt;dbl&gt; | .config &lt;chr&gt; |\n",
       "|---|---|---|---|---|---|---|\n",
       "|  1 | accuracy | multiclass | 0.4000000 | 10 | 0.05415467 | Preprocessor1_Model01 |\n",
       "|  3 | accuracy | multiclass | 0.4634921 | 10 | 0.06027103 | Preprocessor1_Model02 |\n",
       "|  5 | accuracy | multiclass | 0.4666667 | 10 | 0.07339828 | Preprocessor1_Model03 |\n",
       "|  7 | accuracy | multiclass | 0.4833333 | 10 | 0.07499848 | Preprocessor1_Model04 |\n",
       "|  9 | accuracy | multiclass | 0.4801587 | 10 | 0.05855173 | Preprocessor1_Model05 |\n",
       "| 11 | accuracy | multiclass | 0.4849206 | 10 | 0.05460833 | Preprocessor1_Model06 |\n",
       "| 13 | accuracy | multiclass | 0.5023810 | 10 | 0.06471540 | Preprocessor1_Model07 |\n",
       "| 15 | accuracy | multiclass | 0.4920635 | 10 | 0.07354307 | Preprocessor1_Model08 |\n",
       "| 17 | accuracy | multiclass | 0.5452381 | 10 | 0.06149926 | Preprocessor1_Model09 |\n",
       "| 19 | accuracy | multiclass | 0.5309524 | 10 | 0.05473634 | Preprocessor1_Model10 |\n",
       "| 21 | accuracy | multiclass | 0.5166667 | 10 | 0.04841270 | Preprocessor1_Model11 |\n",
       "| 23 | accuracy | multiclass | 0.5142857 | 10 | 0.05580443 | Preprocessor1_Model12 |\n",
       "| 25 | accuracy | multiclass | 0.5674603 | 10 | 0.05177689 | Preprocessor1_Model13 |\n",
       "| 27 | accuracy | multiclass | 0.4992063 | 10 | 0.03454281 | Preprocessor1_Model14 |\n",
       "| 29 | accuracy | multiclass | 0.4595238 | 10 | 0.02884569 | Preprocessor1_Model15 |\n",
       "| 31 | accuracy | multiclass | 0.4420635 | 10 | 0.02864116 | Preprocessor1_Model16 |\n",
       "| 33 | accuracy | multiclass | 0.4103175 | 10 | 0.02188104 | Preprocessor1_Model17 |\n",
       "| 35 | accuracy | multiclass | 0.4023810 | 10 | 0.02021863 | Preprocessor1_Model18 |\n",
       "| 37 | accuracy | multiclass | 0.4023810 | 10 | 0.02021863 | Preprocessor1_Model19 |\n",
       "| 39 | accuracy | multiclass | 0.4674603 | 10 | 0.01864845 | Preprocessor1_Model20 |\n",
       "\n"
      ],
      "text/plain": [
       "   neighbors .metric  .estimator mean      n  std_err    .config              \n",
       "1   1        accuracy multiclass 0.4000000 10 0.05415467 Preprocessor1_Model01\n",
       "2   3        accuracy multiclass 0.4634921 10 0.06027103 Preprocessor1_Model02\n",
       "3   5        accuracy multiclass 0.4666667 10 0.07339828 Preprocessor1_Model03\n",
       "4   7        accuracy multiclass 0.4833333 10 0.07499848 Preprocessor1_Model04\n",
       "5   9        accuracy multiclass 0.4801587 10 0.05855173 Preprocessor1_Model05\n",
       "6  11        accuracy multiclass 0.4849206 10 0.05460833 Preprocessor1_Model06\n",
       "7  13        accuracy multiclass 0.5023810 10 0.06471540 Preprocessor1_Model07\n",
       "8  15        accuracy multiclass 0.4920635 10 0.07354307 Preprocessor1_Model08\n",
       "9  17        accuracy multiclass 0.5452381 10 0.06149926 Preprocessor1_Model09\n",
       "10 19        accuracy multiclass 0.5309524 10 0.05473634 Preprocessor1_Model10\n",
       "11 21        accuracy multiclass 0.5166667 10 0.04841270 Preprocessor1_Model11\n",
       "12 23        accuracy multiclass 0.5142857 10 0.05580443 Preprocessor1_Model12\n",
       "13 25        accuracy multiclass 0.5674603 10 0.05177689 Preprocessor1_Model13\n",
       "14 27        accuracy multiclass 0.4992063 10 0.03454281 Preprocessor1_Model14\n",
       "15 29        accuracy multiclass 0.4595238 10 0.02884569 Preprocessor1_Model15\n",
       "16 31        accuracy multiclass 0.4420635 10 0.02864116 Preprocessor1_Model16\n",
       "17 33        accuracy multiclass 0.4103175 10 0.02188104 Preprocessor1_Model17\n",
       "18 35        accuracy multiclass 0.4023810 10 0.02021863 Preprocessor1_Model18\n",
       "19 37        accuracy multiclass 0.4023810 10 0.02021863 Preprocessor1_Model19\n",
       "20 39        accuracy multiclass 0.4674603 10 0.01864845 Preprocessor1_Model20"
      ]
     },
     "metadata": {},
     "output_type": "display_data"
    }
   ],
   "source": [
    "set.seed(2021)\n",
    "\n",
    "knn_tune <- nearest_neighbor(weight_func = \"rectangular\", neighbors = tune()) %>%\n",
    "      set_engine('kknn') %>%\n",
    "      set_mode('classification')\n",
    "\n",
    "k_vals <- tibble(neighbors = seq(from = 1, to = 40, by = 2))\n",
    "\n",
    "player_results <- workflow() %>%\n",
    "    add_recipe(player_recipe) %>%\n",
    "    add_model(knn_tune) %>%\n",
    "    tune_grid(resamples = player_vfold, grid = k_vals) %>%\n",
    "    collect_metrics()\n",
    "\n",
    "accuracies <- player_results %>%\n",
    "    filter(.metric == \"accuracy\")\n",
    "accuracies"
   ]
  },
  {
   "cell_type": "markdown",
   "metadata": {},
   "source": [
    "visual"
   ]
  },
  {
   "cell_type": "code",
   "execution_count": 12,
   "metadata": {},
   "outputs": [
    {
     "data": {
      "image/png": "[encoded data removed]",
      "text/plain": [
       "plot without title"
      ]
     },
     "metadata": {
      "image/png": {
       "height": 480,
       "width": 600
      }
     },
     "output_type": "display_data"
    }
   ],
   "source": [
    "set.seed(2021)\n",
    "\n",
    "\n",
    "cross_val_plot <- ggplot(accuracies, aes(x = neighbors, y = mean)) +\n",
    "                geom_point() +\n",
    "                geom_line() +\n",
    "                xlab(\"Neighbours (K)\") +\n",
    "                ylab(\"Estimate of Accuracy\")\n",
    "cross_val_plot"
   ]
  },
  {
   "cell_type": "markdown",
   "metadata": {},
   "source": [
    "**TODO** k = 19. This value for K is selected because it provides roughly optimal accuracy (53% vs 57%) and changing the value to a nearby number of neighbours doesn't significantly change the accuracy, which makes our model more reliable in the presence of uncertainty. Conversely, choosing either 17 (55%) or 25 (57%) yields a higher accuracy, but changing k by a small amount leads to a significant change in accuracy, thus making the model less reliable."
   ]
  },
  {
   "cell_type": "markdown",
   "metadata": {},
   "source": [
    "**TODO** conduct and explain test predictions (NEED HELP HERE)"
   ]
  },
  {
   "cell_type": "code",
   "execution_count": 13,
   "metadata": {},
   "outputs": [
    {
     "data": {
      "text/html": [
       "<table class=\"dataframe\">\n",
       "<caption>A tibble: 1 × 3</caption>\n",
       "<thead>\n",
       "\t<tr><th scope=col>.metric</th><th scope=col>.estimator</th><th scope=col>.estimate</th></tr>\n",
       "\t<tr><th scope=col>&lt;chr&gt;</th><th scope=col>&lt;chr&gt;</th><th scope=col>&lt;dbl&gt;</th></tr>\n",
       "</thead>\n",
       "<tbody>\n",
       "\t<tr><td>accuracy</td><td>multiclass</td><td>0.5588235</td></tr>\n",
       "</tbody>\n",
       "</table>\n"
      ],
      "text/latex": [
       "A tibble: 1 × 3\n",
       "\\begin{tabular}{lll}\n",
       " .metric & .estimator & .estimate\\\\\n",
       " <chr> & <chr> & <dbl>\\\\\n",
       "\\hline\n",
       "\t accuracy & multiclass & 0.5588235\\\\\n",
       "\\end{tabular}\n"
      ],
      "text/markdown": [
       "\n",
       "A tibble: 1 × 3\n",
       "\n",
       "| .metric &lt;chr&gt; | .estimator &lt;chr&gt; | .estimate &lt;dbl&gt; |\n",
       "|---|---|---|\n",
       "| accuracy | multiclass | 0.5588235 |\n",
       "\n"
      ],
      "text/plain": [
       "  .metric  .estimator .estimate\n",
       "1 accuracy multiclass 0.5588235"
      ]
     },
     "metadata": {},
     "output_type": "display_data"
    },
    {
     "data": {
      "text/plain": [
       "          Truth\n",
       "Prediction good great top\n",
       "     good     7     1   0\n",
       "     great    3    11   8\n",
       "     top      0     3   1"
      ]
     },
     "metadata": {},
     "output_type": "display_data"
    }
   ],
   "source": [
    "set.seed(2021)\n",
    "\n",
    "player_tuned_spec <- nearest_neighbor(weight_func = \"rectangular\", neighbors = 19) %>%\n",
    "    set_engine(\"kknn\") %>%\n",
    "    set_mode(\"classification\")\n",
    "\n",
    "player_fit <- workflow() %>%\n",
    "    add_recipe(player_recipe) %>%\n",
    "    add_model(player_tuned_spec) %>%\n",
    "    fit(data = player_stats_training)\n",
    "\n",
    "player_test_predictions <- predict(player_fit, player_stats_testing) %>%\n",
    "    bind_cols(player_stats_testing)\n",
    "\n",
    "model_accuracy <- player_test_predictions %>%\n",
    "    metrics(truth = player_level, estimate = .pred_class) %>%\n",
    "    filter(.metric == \"accuracy\")\n",
    "\n",
    "model_accuracy\n",
    "\n",
    "confusion <- player_test_predictions %>% \n",
    "      conf_mat(truth = player_level, estimate = .pred_class)\n",
    "\n",
    "confusion"
   ]
  },
  {
   "cell_type": "code",
   "execution_count": 33,
   "metadata": {},
   "outputs": [
    {
     "name": "stderr",
     "output_type": "stream",
     "text": [
      "New names:\n",
      "* NA -> ...4\n",
      "\n"
     ]
    },
    {
     "data": {
      "text/html": [
       "<table class=\"dataframe\">\n",
       "<caption>A tibble: 1 × 4</caption>\n",
       "<thead>\n",
       "\t<tr><th scope=col>Height_cm</th><th scope=col>Seasons</th><th scope=col>player_level</th><th scope=col>...4</th></tr>\n",
       "\t<tr><th scope=col>&lt;dbl&gt;</th><th scope=col>&lt;dbl&gt;</th><th scope=col>&lt;fct&gt;</th><th scope=col>&lt;chr&gt;</th></tr>\n",
       "</thead>\n",
       "<tbody>\n",
       "\t<tr><td>-1.42267</td><td>2.877747</td><td>top</td><td>Serena Williams</td></tr>\n",
       "</tbody>\n",
       "</table>\n"
      ],
      "text/latex": [
       "A tibble: 1 × 4\n",
       "\\begin{tabular}{llll}\n",
       " Height\\_cm & Seasons & player\\_level & ...4\\\\\n",
       " <dbl> & <dbl> & <fct> & <chr>\\\\\n",
       "\\hline\n",
       "\t -1.42267 & 2.877747 & top & Serena Williams\\\\\n",
       "\\end{tabular}\n"
      ],
      "text/markdown": [
       "\n",
       "A tibble: 1 × 4\n",
       "\n",
       "| Height_cm &lt;dbl&gt; | Seasons &lt;dbl&gt; | player_level &lt;fct&gt; | ...4 &lt;chr&gt; |\n",
       "|---|---|---|---|\n",
       "| -1.42267 | 2.877747 | top | Serena Williams |\n",
       "\n"
      ],
      "text/plain": [
       "  Height_cm Seasons  player_level ...4           \n",
       "1 -1.42267  2.877747 top          Serena Williams"
      ]
     },
     "metadata": {},
     "output_type": "display_data"
    },
    {
     "data": {
      "image/png": "[encoded data removed]",
      "text/plain": [
       "plot without title"
      ]
     },
     "metadata": {
      "image/png": {
       "height": 480,
       "width": 600
      }
     },
     "output_type": "display_data"
    }
   ],
   "source": [
    "#predict Player Level for Serena Williams\n",
    "\n",
    "serena_prediction <- predict(player_fit, serena_data) %>%\n",
    "bind_cols(serena_data)\n",
    "\n",
    "serena_prediction <- serena_prediction %>%\n",
    "    rename(player_level = .pred_class)\n",
    "\n",
    "#graph location of serena point\n",
    "\n",
    "player_training_with_serena <- rbind(player_stats_training, serena_prediction)\n",
    "\n",
    "\n",
    "serena_recipe <- recipe(player_level ~ + Height_cm + Seasons, data = player_training_with_serena) %>%\n",
    "   step_scale(all_predictors()) %>%\n",
    "   step_center(all_predictors()) %>%\n",
    "   prep()\n",
    "\n",
    "serena_standardized <- bake(serena_recipe, player_training_with_serena) %>%\n",
    "     bind_cols(player_training_with_serena$Name)\n",
    "\n",
    "serena_standardized <- serena_standardized %>%\n",
    "    filter(...4 == \"Serena Williams\")\n",
    "serena_standardized\n",
    "\n",
    "options(repr.plot.width = 10, repr.plot.height = 8)\n",
    "seas_height_plot +\n",
    "    geom_point(aes(x = 2.877747, y = -1.42267), colour = \"black\", size = 6)\n"
   ]
  },
  {
   "cell_type": "markdown",
   "metadata": {},
   "source": [
    "## Methods\n",
    "\n",
    "To tidy our data, we will first subset our dataset to contain columns of interest such as \"Height\", \"Age\", \"Seasons\" and \"Rank\". We will be creating an additional column \"Age turned pro\", calculated as \"Year turned pro\" subtracting \"Birthdate\", to calculate the difference in years and find out how old players were at the start of their professional career. A separate dataframe will be created that contains matching information on Serena Williams.\n",
    "\n",
    "As mentioned in our introduction, we will be creating a classification model by filtering intervals from the \"Best Rank\" column as categories. Players ranked in the top 10 will be defined as Top Players, players ranked between 11-30 will be Competitive Players, players ranked between 31 - 50 will be Great players, players ranked between 51-100 will be Good players, and the rest will be considered Average Players. The goal is to place Serena Williams in one of these categories by the end of our analysis. \n",
    "\n",
    "We plan to visualize our data by plotting the various potential predictors, such as Height, Number of Seasons played, and Age when the player turned professional, against their best rank achieved (in 2019) to determine whether any relationships exist. \n"
   ]
  },
  {
   "cell_type": "markdown",
   "metadata": {},
   "source": [
    "## Expected Outcomes and Significance"
   ]
  },
  {
   "cell_type": "markdown",
   "metadata": {},
   "source": [
    "In this analysis, we expect to find that Serena Williams' skill and experience that come from her early age of turning pro as well as the number of seasons she played will cause her to rank highly amongst men - however, not nearly as highly as in female statistics. We expect her shorter height may be a disadvantage next to males that could affect her rank. This will help us determine whether early exposure to a professional career can overcome the disadvantage of a smaller body type.  \n",
    "\n",
    "This exploration will be impactful in showing us how males and females are separated in sports, and to see to what extend physical stature serves as an advantage to men. From a feminist standpoint, it could also be impactful in showing female athletes can be put up against men fairly. In future studies, we could compare more female professionals with males and conduct combined tournaments to gain new statistics and see how much ranking is affected when athletes intermingle, rather than comparing only male-male and female-female stats. \n"
   ]
  }
 ],
 "metadata": {
  "kernelspec": {
   "display_name": "R",
   "language": "R",
   "name": "ir"
  },
  "language_info": {
   "codemirror_mode": "r",
   "file_extension": ".r",
   "mimetype": "text/x-r-source",
   "name": "R",
   "pygments_lexer": "r",
   "version": "4.0.3"
  }
 },
 "nbformat": 4,
 "nbformat_minor": 4
}
