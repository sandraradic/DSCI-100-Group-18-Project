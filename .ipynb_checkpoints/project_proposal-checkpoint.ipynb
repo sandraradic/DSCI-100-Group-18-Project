{
 "cells": [
  {
   "cell_type": "markdown",
   "metadata": {},
   "source": [
    "# Group 18 Project Proposal\n",
    "By: Sandra Radic, Charlie Sushams, Alex Grinius, & Clare Vu"
   ]
  },
  {
   "cell_type": "markdown",
   "metadata": {},
   "source": [
    "## Introduction\n",
    "\n",
    "In the world of tennis (and most sports), events and tournaments are divided into categories of males and females for fairness (excluding partnered matches). Therefore, female and male statistics are not usually compared in one group. However, there are many outstanding female players that could very well pose as serious competition to the male dominated sport - 23-time Grand Slam champion Serena Williams is definitely one of them. Williams is ranked number 1 in international women's tennis, and started her professional career in her early teenage years, reflecting her exceptional skill and sportsmanship. This leads us to our question: How would top player Serena Williams rank amongst the top 500 male players? Our group intends to analyze the factors that separate men's and women's sports, and use them in a classification model to predict which category (intervals from 1 - 501 players) Williams would fall under if she were to partake in a men's only tournament. To conduct this analysis, we will be using the Player Stats for Top 500 players dataset, from  https://www.ultimatetennisstatistics.com/. We will be considering the factors of height, number of seasons played, and the age the player entered. This will allow us to examine whether physical stature serves as a male advantage or not, and otherwise compares skill level. Consequently, we will be creating categories using the \"best rank\" column to further sort our data and choose a new rank level for Serena. "
   ]
  },
  {
   "cell_type": "markdown",
   "metadata": {},
   "source": [
    "## Preliminary exploratory data analysis:"
   ]
  },
  {
   "cell_type": "markdown",
   "metadata": {},
   "source": [
    "instructions from sandra:\n",
    "\n",
    "* Read player_stats.csv\n",
    "* Read what I wrote in \"Method\" to see what we need to do to create a smaller tidy dataset\n",
    "* Find out serena williams' height, age turned pro, and # of seasons played and mutate it as a new column\n",
    "* Use only TRAINING DATA to make a table and visualization\n",
    "* add to method section about how we can visualize our data (eg scatterplots to compare variables maybe?)"
   ]
  },
  {
   "cell_type": "code",
   "execution_count": 1,
   "metadata": {},
   "outputs": [
    {
     "name": "stderr",
     "output_type": "stream",
     "text": [
      "Warning message:\n",
      "\"package 'tidyverse' was built under R version 4.0.5\"\n"
     ]
    },
    {
     "ename": "ERROR",
     "evalue": "Error: package or namespace load failed for 'tidyverse' in loadNamespace(j <- i[[1L]], c(lib.loc, .libPaths()), versionCheck = vI[[j]]):\n there is no package called 'tidyr'\n",
     "output_type": "error",
     "traceback": [
      "Error: package or namespace load failed for 'tidyverse' in loadNamespace(j <- i[[1L]], c(lib.loc, .libPaths()), versionCheck = vI[[j]]):\n there is no package called 'tidyr'\nTraceback:\n",
      "1. library(tidyverse)",
      "2. tryCatch({\n .     attr(package, \"LibPath\") <- which.lib.loc\n .     ns <- loadNamespace(package, lib.loc)\n .     env <- attachNamespace(ns, pos = pos, deps, exclude, include.only)\n . }, error = function(e) {\n .     P <- if (!is.null(cc <- conditionCall(e))) \n .         paste(\" in\", deparse(cc)[1L])\n .     else \"\"\n .     msg <- gettextf(\"package or namespace load failed for %s%s:\\n %s\", \n .         sQuote(package), P, conditionMessage(e))\n .     if (logical.return) \n .         message(paste(\"Error:\", msg), domain = NA)\n .     else stop(msg, call. = FALSE, domain = NA)\n . })",
      "3. tryCatchList(expr, classes, parentenv, handlers)",
      "4. tryCatchOne(expr, names, parentenv, handlers[[1L]])",
      "5. value[[3L]](cond)",
      "6. stop(msg, call. = FALSE, domain = NA)"
     ]
    }
   ],
   "source": [
    "library(tidyverse)\n",
    "library(tidymodels)\n",
    "library(cowplot)\n",
    "library(scales)\n",
    "library(stringr)"
   ]
  },
  {
   "cell_type": "code",
   "execution_count": null,
   "metadata": {},
   "outputs": [],
   "source": [
    "#read in data\n",
    "player_stats <- read_csv(\"../player_stats.csv\")\n",
    "\n",
    "# select only the necessary columns and filter out any players whose stats aren't known\n",
    "\n",
    "player_stats_filtered <- player_stats %>%\n",
    "    select(\"Best Rank\", Height, Seasons, Name, \"Turned Pro\", Seasons, Age) %>%\n",
    "    filter(!is.na(Height))\n",
    "    \n",
    "# tidy up dataframe (ensure correct datatypes and appropriate column names)\n",
    "\n",
    "player_stats_tidy <- player_stats_filtered %>%\n",
    "    separate(col = Age, into = c(\"Age\", \"Birthdate\"), sep = \" \") %>%\n",
    "    mutate(Age = as.numeric(Age)) %>%\n",
    "    mutate_at(\"Height\", str_replace, \" cm\", \"\") %>%\n",
    "    mutate(Height = as.numeric(Height)) %>%\n",
    "    rename(Height_cm = Height, Year_turned_pro = \"Turned Pro\", Best_rank = \"Best Rank\")\n",
    "    player_stats_tidy$Best_rank <- gsub(\" .+\", \"\", player_stats_tidy$Best_rank)\n",
    "    \n",
    "player_stats_tidy <- mutate(player_stats_tidy, Best_rank = as.integer(Best_rank))\n",
    "\n",
    "\n",
    "# create new column that lists a player's age when they turned pro\n",
    "\n",
    "player_stats_age_pro <- player_stats_tidy %>%\n",
    "     mutate(Age_turned_pro = Age - Seasons)\n",
    "    \n",
    "player_stats_age_pro\n",
    "\n",
    "# create a dataframe for Serena Williams - currently contains junk data\n",
    "serena_data <- data.frame(Name = \"Serena Williams\", Age = 99, Birthdate = \"(30-30-1900)\", Year_turned_pro = 1900,\n",
    "    Age_turned_pro = 99, Seasons = 99, Height_cm = \"199 cm\", Best_rank = 1)\n",
    "\n",
    "serena_data\n",
    "\n",
    "#split the player data into training and testing sets\n",
    "player_stats_split <- initial_split(player_stats_age_pro, prop = 0.75, strata = Best_rank)\n",
    "    player_stats_training <- training(player_stats_split)\n",
    "    player_stats_testing <- testing(player_stats_split)\n",
    "\n",
    "player_stats_training"
   ]
  },
  {
   "cell_type": "code",
   "execution_count": null,
   "metadata": {},
   "outputs": [],
   "source": []
  },
  {
   "cell_type": "markdown",
   "metadata": {},
   "source": [
    "## Methods\n",
    "\n",
    "To tidy our data, we will be selecting our data to only use the columns for \"Height\" and \"Seasons\". We will be creating an additional column \"Career Start Age\" using mation on the columns \"Current Age\" (in 2019) and \"Year Turned Pro\", to calculate the difference in years and find out how old players were at the start of their career. An additional mutation will be used to manually add a column for Serena Williams' data (including her height, seasons played, and career start age). \n",
    "\n",
    "As mentioned in our introduction, we will be creating a classification model by filtering intervals from the \"Best Rank\" column as categories. Players ranked in the top 10 will be defined as Top Players, players ranked between 11-30 will be Competitive Players, players ranked between 31 - 50 will be Great players, players ranked between 51-100 will be Good players, and the rest will be considered Average Players. The goal is to place Serena Williams in one of these categories by the end of our analysis. \n",
    "\n",
    "We plan to visualize our data by ___. \n"
   ]
  },
  {
   "cell_type": "markdown",
   "metadata": {},
   "source": [
    "## Expected Outcomes and Significance"
   ]
  },
  {
   "cell_type": "code",
   "execution_count": null,
   "metadata": {},
   "outputs": [],
   "source": []
  }
 ],
 "metadata": {
  "kernelspec": {
   "display_name": "R",
   "language": "R",
   "name": "ir"
  },
  "language_info": {
   "codemirror_mode": "r",
   "file_extension": ".r",
   "mimetype": "text/x-r-source",
   "name": "R",
   "pygments_lexer": "r",
   "version": "4.0.3"
  }
 },
 "nbformat": 4,
 "nbformat_minor": 4
}
